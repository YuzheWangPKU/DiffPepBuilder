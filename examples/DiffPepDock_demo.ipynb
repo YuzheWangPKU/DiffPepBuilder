{
  "cells": [
    {
      "cell_type": "markdown",
      "metadata": {
        "id": "Lf7MMQef4zVc"
      },
      "source": [
        "# Accurate and Efficient Protein-Peptide Docking with DiffPepDock"
      ]
    },
    {
      "cell_type": "markdown",
      "metadata": {
        "id": "wuobwMy44zVd"
      },
      "source": [
        "<img src=\"https://github.com/YuzheWangPKU/DiffPepBuilder/blob/main/examples/figures/dpd_model.jpg?raw=true\">\n",
        "\n",
        "This notebook demonstrates how to use the DiffPepDock tool to dock batches of peptide sequences to a specific target protein. We provide an example of the redocking task of the substrate-binding protein YejA in complex with its native peptide fragment (PDB ID: [7Z6F](https://www.rcsb.org/structure/7Z6F)) to demonstrate the procedures of batch docking."
      ]
    },
    {
      "cell_type": "markdown",
      "metadata": {
        "id": "M-oQLvH3rLw1"
      },
      "source": [
        "## Setup"
      ]
    },
    {
      "cell_type": "code",
      "execution_count": 1,
      "metadata": {
        "cellView": "form",
        "colab": {
          "base_uri": "https://localhost:8080/"
        },
        "id": "JH01KLI65ZKP",
        "outputId": "c3baf465-aa17-4f48-c0b7-ebf93e21cb0b"
      },
      "outputs": [
        {
          "name": "stdout",
          "output_type": "stream",
          "text": [
            "Installing DiffPepDock...\n",
            "Downloading model weights...\n",
            "DiffPepDock is installed and ready.\n"
          ]
        }
      ],
      "source": [
        "#@title ### Download model assets\n",
        "import os\n",
        "\n",
        "diffpep_folder = \"DiffPepBuilder\"\n",
        "checkpoint_file = os.path.join(diffpep_folder, \"experiments\", \"checkpoints\", \"diffpepdock_v1.pth\")\n",
        "\n",
        "if not (os.path.isdir(diffpep_folder) and os.path.isfile(checkpoint_file)):\n",
        "  print(\"Installing DiffPepDock...\")\n",
        "\n",
        "  if not os.path.isdir(diffpep_folder):\n",
        "    os.system(\"git clone https://github.com/YuzheWangPKU/DiffPepBuilder.git\")\n",
        "\n",
        "  os.chdir(diffpep_folder)\n",
        "\n",
        "  if not os.path.isfile(checkpoint_file):\n",
        "    print(\"Downloading model weights...\")\n",
        "    os.system(\"wget https://zenodo.org/records/15398020/files/diffpepdock_v1.pth\")\n",
        "    os.makedirs(\"experiments/checkpoints/\", exist_ok=True)\n",
        "    os.system(\"mv diffpepdock_v1.pth experiments/checkpoints/\")\n",
        "\n",
        "  os.chdir(\"..\")\n",
        "  print(\"DiffPepDock is installed and ready.\")\n",
        "\n",
        "else:\n",
        "  print(\"DiffPepDock is already installed and ready.\")"
      ]
    },
    {
      "cell_type": "code",
      "execution_count": 2,
      "metadata": {
        "cellView": "form",
        "colab": {
          "base_uri": "https://localhost:8080/"
        },
        "id": "pDG1HhY1-f8k",
        "outputId": "9fe7ead3-9d86-4788-9f62-8a2b94fd3377"
      },
      "outputs": [
        {
          "name": "stdout",
          "output_type": "stream",
          "text": [
            "Installing pdbfixer...\n",
            "pdbfixer is installed.\n"
          ]
        },
        {
          "data": {
            "text/plain": [
              "0"
            ]
          },
          "execution_count": 2,
          "metadata": {},
          "output_type": "execute_result"
        }
      ],
      "source": [
        "#@title ### Install dependencies\n",
        "os.system(\"pip install wget wandb fair-esm biotite pyrootutils easydict biopython tqdm ml-collections mdtraj GPUtil dm-tree tmtools py3Dmol\")\n",
        "os.system(\"wget https://west.rosettacommons.org/pyrosetta/release/release/PyRosetta4.MinSizeRel.python311.linux.wheel/pyrosetta-2024.39+release.59628fb-cp311-cp311-linux_x86_64.whl\")\n",
        "os.system(\"pip install pyrosetta-2024.39+release.59628fb-cp311-cp311-linux_x86_64.whl\")\n",
        "os.system(\"rm pyrosetta-2024.39+release.59628fb-cp311-cp311-linux_x86_64.whl\")\n",
        "\n",
        "pdbfixer_folder = \"pdbfixer\"\n",
        "if not os.path.isdir(pdbfixer_folder):\n",
        "  print(\"Installing pdbfixer...\")\n",
        "  os.system(\"git clone https://github.com/openmm/pdbfixer.git\")\n",
        "  os.chdir(pdbfixer_folder)\n",
        "  os.system(\"python setup.py install\")\n",
        "  os.chdir(\"..\")\n",
        "  print(\"pdbfixer is installed.\")\n",
        "else:\n",
        "  print(\"pdbfixer is already cloned.\")\n",
        "\n",
        "os.system(\"pip install hydra-core hydra-joblib-launcher\")"
      ]
    },
    {
      "cell_type": "markdown",
      "metadata": {
        "id": "m5ld4hUNqTcP"
      },
      "source": [
        "## Inference"
      ]
    },
    {
      "cell_type": "code",
      "execution_count": null,
      "metadata": {
        "cellView": "form",
        "id": "0KH7alTw5R-M"
      },
      "outputs": [],
      "source": [
        "#@title ### Specify receptor information\n",
        "from google.colab import files\n",
        "import json\n",
        "\n",
        "os.makedirs(\"test_case\", exist_ok=True)\n",
        "receptor_type = \"default (7Z6F)\" #@param [\"default (7Z6F)\", \"uploaded\"]\n",
        "\n",
        "if receptor_type == \"uploaded\":\n",
        "  uploaded_pdb = files.upload()\n",
        "  file_name = next(iter(uploaded_pdb))\n",
        "  if not file_name.endswith(\".pdb\"):\n",
        "    raise ValueError(\"Please upload in PDB format.\")\n",
        "  os.system(f\"cp {file_name} test_case/\")\n",
        "  os.system(f\"cp test_case/{file_name} DiffPepBuilder/examples/docking_data/\")\n",
        "else:\n",
        "  file_name = \"7Z6F.pdb\"\n",
        "  os.system(f\"cp DiffPepBuilder/examples/docking_data/7Z6F.pdb test_case/\")\n",
        "#@markdown - **Note**: please remove non-protein components from the PDB file and ensure that the CA atoms are present.\n",
        "\n",
        "lig_chain = \"A\" #@param {type:\"string\"}\n",
        "#@markdown  - Chain ID of the **reference** ligand. Please set to `None` if no reference ligand is included in the PDB file.\n",
        "#@markdown  The model will prioritize reference ligand information over the binding motif if both are given.\n",
        "motif = None #@param {type:\"string\"}\n",
        "\n",
        "key = os.path.splitext(file_name)[0]\n",
        "data = {}\n",
        "if lig_chain and lig_chain != \"None\":\n",
        "  data['lig_chain'] = lig_chain\n",
        "if motif and motif != \"None\":\n",
        "  data['motif'] = motif.replace(\",\", \"-\")\n",
        "\n",
        "json_file_write_path = \"test_case/docking_cases.json\"\n",
        "final_data = {key: data}\n",
        "with open(json_file_write_path, 'w') as file:\n",
        "  json.dump(final_data, file, indent=4)"
      ]
    },
    {
      "cell_type": "code",
      "execution_count": 4,
      "metadata": {
        "cellView": "form",
        "colab": {
          "base_uri": "https://localhost:8080/",
          "height": 165,
          "referenced_widgets": [
            "9a4c5a7957204e049dae03d8c967f233",
            "1730c85007b94926be510fa81ebf93e0",
            "ad8081db98ba4f018c7da5bf7c7fb917",
            "1bd19c2688fd4a13b776ca4cd705877b",
            "d75739dbbe254bc1a762891f318d3543",
            "2d7575a33c614717a7338dfa596a694e",
            "4d26d4f344cd422daf89d4a510d73d4c",
            "70b6425d1d2b402ea91edbae8c004b71",
            "328bdf2a8aab4a5e947bbf10d4ccc4f0",
            "c11812e99a374bf38fac694f8b5ae24d",
            "c2a1cc00ff0749588439c6ee3f1cc8ef",
            "89b3a79510d642078a1cb25640fe2549",
            "97f451a06a87439cb977ede952339a06",
            "a0c3bf6adb344df689e6d35645ad0c5a",
            "79a11ea68a8246d88750708f87a21bc6",
            "52ac9956563448f79bcbf0ec5834fbaa"
          ]
        },
        "id": "qgiLTB9DZIcm",
        "outputId": "88021453-4529-4f83-8d48-5b5691de399b"
      },
      "outputs": [
        {
          "data": {
            "application/vnd.jupyter.widget-view+json": {
              "model_id": "9a4c5a7957204e049dae03d8c967f233",
              "version_major": 2,
              "version_minor": 0
            },
            "text/plain": [
              "Dropdown(description='Docking Mode:', options=('single', 'batch'), style=DescriptionStyle(description_width='i…"
            ]
          },
          "metadata": {},
          "output_type": "display_data"
        },
        {
          "data": {
            "application/vnd.jupyter.widget-view+json": {
              "model_id": "1bd19c2688fd4a13b776ca4cd705877b",
              "version_major": 2,
              "version_minor": 0
            },
            "text/plain": [
              "Output()"
            ]
          },
          "metadata": {},
          "output_type": "display_data"
        }
      ],
      "source": [
        "#@title ### Specify peptide sequences\n",
        "import ipywidgets\n",
        "from IPython.display import display, clear_output\n",
        "\n",
        "mode_dropdown = ipywidgets.Dropdown(\n",
        "    options=['single', 'batch'],\n",
        "    value='single',\n",
        "    description='Docking Mode:',\n",
        "    style={'description_width': 'initial'}\n",
        ")\n",
        "\n",
        "# Widgets for SINGLE mode\n",
        "peptide_seq = ipywidgets.Text(\n",
        "    value='VLGEPRYAFNFN',\n",
        "    description='Peptide Sequence:',\n",
        "    style={'description_width': 'initial'}\n",
        ")\n",
        "peptide_id = ipywidgets.Text(\n",
        "    value='nat',\n",
        "    description='Peptide ID:',\n",
        "    style={'description_width': 'initial'}\n",
        ")\n",
        "save_button = ipywidgets.Button(\n",
        "    description='Save Sequence',\n",
        "    button_style='success'\n",
        ")\n",
        "\n",
        "# Widgets for BATCH mode\n",
        "upload_widget = ipywidgets.FileUpload(\n",
        "    accept='.fasta',\n",
        "    multiple=False,\n",
        "    description='Upload FASTA'\n",
        ")\n",
        "process_button = ipywidgets.Button(\n",
        "    description='Process Upload',\n",
        "    button_style='info'\n",
        ")\n",
        "\n",
        "output = ipywidgets.Output()\n",
        "\n",
        "def on_mode_change(change):\n",
        "    with output:\n",
        "        clear_output(wait=True)\n",
        "        if change['new'] == 'single':\n",
        "            display(ipywidgets.VBox([peptide_seq, peptide_id, save_button]))\n",
        "        else:\n",
        "            display(ipywidgets.VBox([upload_widget, process_button]))\n",
        "\n",
        "def save_sequence(btn):\n",
        "    seq = peptide_seq.value.strip()\n",
        "    pid = peptide_id.value.strip()\n",
        "    if not seq or not pid:\n",
        "        with output:\n",
        "            print(\"Please provide both Sequence and ID.\")\n",
        "        return\n",
        "    path = os.path.join(\"test_case\", \"peptide_seq.fasta\")\n",
        "    with open(path, 'w') as f:\n",
        "        f.write(f\">{pid}\\n{seq}\\n\")\n",
        "    with output:\n",
        "        print(f\"Saved single-sequence file to {path}\")\n",
        "\n",
        "def process_upload(btn):\n",
        "    if not upload_widget.value:\n",
        "        with output:\n",
        "            clear_output(wait=True)\n",
        "            print(\"No FASTA file uploaded.\")\n",
        "        return\n",
        "    with output:\n",
        "        clear_output(wait=True)\n",
        "        for fname, fileinfo in upload_widget.value.items():\n",
        "            dest = os.path.join(\"test_case\", \"peptide_seq.fasta\")\n",
        "            with open(dest, 'wb') as f:\n",
        "                f.write(fileinfo['content'])\n",
        "            print(f\"Saved batch file to {dest}\")\n",
        "\n",
        "mode_dropdown.observe(on_mode_change, names='value')\n",
        "save_button.on_click(save_sequence)\n",
        "process_button.on_click(process_upload)\n",
        "\n",
        "display(mode_dropdown, output)\n",
        "on_mode_change({'new': mode_dropdown.value})"
      ]
    },
    {
      "cell_type": "code",
      "execution_count": 5,
      "metadata": {
        "cellView": "form",
        "colab": {
          "base_uri": "https://localhost:8080/"
        },
        "id": "Nt9hFAMAqM-b",
        "outputId": "c68f4cd4-64e7-4733-fb59-f6d456970259"
      },
      "outputs": [
        {
          "name": "stdout",
          "output_type": "stream",
          "text": [
            "Files will be written to test_case\n",
            "Finished test_case/7Z6F.pdb in 0.23s\n",
            "Finished processing 1/1 files. Start ESM embedding...\n",
            "Model file /content/DiffPepBuilder/experiments/checkpoints/esm2_t33_650M_UR50D.pt not found. Downloading...\n",
            "Model file /content/DiffPepBuilder/experiments/checkpoints/esm2_t33_650M_UR50D-contact-regression.pt not found. Downloading...\n",
            "Read sequence data with 2 sequences\n",
            "Processing protein sequence batches:   0% 0/1 [00:00<?, ?it/s]Processing 1 of 1 batches (2 sequences)\n",
            "Processing protein sequence batches: 100% 1/1 [00:01<00:00,  1.42s/it]\n",
            "1it [00:00, 102.51it/s]\n"
          ]
        }
      ],
      "source": [
        "#@title ### Preprocess receptor and peptide sequence data\n",
        "!python DiffPepBuilder/experiments/process_batch_dock.py \\\n",
        "  --pdb_dir test_case \\\n",
        "  --write_dir test_case \\\n",
        "  --receptor_info_path test_case/docking_cases.json \\\n",
        "  --peptide_seq_path test_case/peptide_seq.fasta"
      ]
    },
    {
      "cell_type": "code",
      "execution_count": null,
      "metadata": {
        "cellView": "form",
        "id": "vL6Rz2IHJS-d"
      },
      "outputs": [],
      "source": [
        "#@title ### Customize docking settings\n",
        "import yaml\n",
        "\n",
        "#@markdown #### Sampling params\n",
        "denoising_steps = \"200\" #@param [100, 200, 500]\n",
        "noise_scale = \"1\" #@param [0.5, 1, 1.5, 2, 2.5]\n",
        "samples_per_sequence = 4 #@param {type:\"integer\"}\n",
        "\n",
        "#@markdown #### Postprocessing params\n",
        "amber_relax = True #@param {type:\"boolean\"}\n",
        "#@markdown  - Amber relaxation runs slowly on Colab. You may skip this step for faster inference with minimal quality loss.\n",
        "rosetta_relax = True #@param {type:\"boolean\"}\n",
        "\n",
        "yaml_file_path = \"DiffPepBuilder/config/docking.yaml\"\n",
        "with open(yaml_file_path, 'r') as file:\n",
        "  yaml_data = yaml.safe_load(file)\n",
        "\n",
        "yaml_data['data']['num_t'] = int(denoising_steps)\n",
        "yaml_data['experiment']['noise_scale'] = float(noise_scale)\n",
        "yaml_data['experiment']['eval_batch_size'] = int(samples_per_sequence)\n",
        "yaml_data['data']['num_repeat_per_eval_sample'] = int(samples_per_sequence)\n",
        "\n",
        "yaml_data['postprocess']['amber_relax'] = amber_relax\n",
        "yaml_data['postprocess']['rosetta_relax'] = rosetta_relax\n",
        "\n",
        "with open(yaml_file_path, 'w') as file:\n",
        "  yaml.dump(yaml_data, file, default_flow_style=False)\n"
      ]
    },
    {
      "cell_type": "code",
      "execution_count": 7,
      "metadata": {
        "cellView": "form",
        "colab": {
          "base_uri": "https://localhost:8080/"
        },
        "id": "isAKfCpHTEhh",
        "outputId": "454d1adc-c3f6-4f25-e5ad-a104c0e762ff"
      },
      "outputs": [
        {
          "name": "stdout",
          "output_type": "stream",
          "text": [
            "[2025-06-05 18:38:52,053][experiments.train][INFO] - Loading checkpoint from /content/DiffPepBuilder/experiments/checkpoints/diffpepdock_v1.pth\n",
            "[2025-06-05 18:38:57,486][data.so3_diffuser][INFO] - Computing IGSO3. Saving in /content/DiffPepBuilder/runs/.cache/eps_1000_omega_1000_min_sigma_0_1_max_sigma_1_5_schedule_logarithmic\n",
            "[2025-06-05 18:40:12,126][experiments.train][INFO] - Number of model parameters: 103.66 M\n",
            "[2025-06-05 18:40:17,202][experiments.train][INFO] - Evaluation mode only, no checkpoint being saved.\n",
            "[2025-06-05 18:40:17,205][experiments.train][INFO] - Evaluation saved to: /content/DiffPepBuilder/runs/docking/05D_06M_2025Y_18h_40m\n",
            "[2025-06-05 18:40:17,336][experiments.train][INFO] - Using device: cuda:0\n",
            "[2025-06-05 18:40:17,342][data.pdb_data_loader][INFO] - Validation: 1 examples\n",
            "/usr/local/lib/python3.11/dist-packages/torch/nn/modules/transformer.py:508: UserWarning: The PyTorch API of nested tensors is in prototype stage and will change in the near future. We recommend specifying layout=torch.jagged when constructing a nested tensor, as this layout receives active development, has better operator coverage, and works with torch.compile. (Triggered internally at /pytorch/aten/src/ATen/NestedTensorImpl.cpp:178.)\n",
            "  output = torch._nested_tensor_from_mask(\n",
            "[2025-06-05 18:42:23,834][experiments.train][INFO] - Done sample 7Z6F (peptide ligand id: nat, sample: 0), saved to /content/DiffPepBuilder/runs/docking/05D_06M_2025Y_18h_40m/7Z6F/nat/7Z6F_nat_sample_0.pdb\n",
            "[2025-06-05 18:42:23,834][experiments.train][INFO] - Postprocessing 7Z6F (peptide ligand id: nat, sample: 0)...\n",
            "Skipping Amber relaxation due to error: Minimization failed after 100 attempts.\n",
            "[2025-06-05 18:44:47,940][pyrosetta.rosetta][INFO] - Found rosetta database at: /usr/local/lib/python3.11/dist-packages/pyrosetta/database; using it....\n",
            "┌──────────────────────────────────────────────────────────────────────────────┐\n",
            "│                                 PyRosetta-4                                  │\n",
            "│              Created in JHU by Sergey Lyskov and PyRosetta Team              │\n",
            "│              (C) Copyright Rosetta Commons Member Institutions               │\n",
            "│                                                                              │\n",
            "│ NOTE: USE OF PyRosetta FOR COMMERCIAL PURPOSES REQUIRE PURCHASE OF A LICENSE │\n",
            "│         See LICENSE.PyRosetta.md or email license@uw.edu for details         │\n",
            "└──────────────────────────────────────────────────────────────────────────────┘\n",
            "PyRosetta-4 2024 [Rosetta PyRosetta4.MinSizeRel.python311.linux 2024.39+release.59628fbc5bc09f1221e1642f1f8d157ce49b1410 2024-09-23T07:49:48] retrieved from: http://www.pyrosetta.org\n",
            "[2025-06-05 18:44:47,940][pyrosetta.rosetta][INFO] - ┌──────────────────────────────────────────────────────────────────────────────┐\n",
            "│                                 PyRosetta-4                                  │\n",
            "│              Created in JHU by Sergey Lyskov and PyRosetta Team              │\n",
            "│              (C) Copyright Rosetta Commons Member Institutions               │\n",
            "│                                                                              │\n",
            "│ NOTE: USE OF PyRosetta FOR COMMERCIAL PURPOSES REQUIRE PURCHASE OF A LICENSE │\n",
            "│         See LICENSE.PyRosetta.md or email license@uw.edu for details         │\n",
            "└──────────────────────────────────────────────────────────────────────────────┘\n",
            "PyRosetta-4 2024 [Rosetta PyRosetta4.MinSizeRel.python311.linux 2024.39+release.59628fbc5bc09f1221e1642f1f8d157ce49b1410 2024-09-23T07:49:48] retrieved from: http://www.pyrosetta.org\n",
            "[2025-06-05 18:45:31,545][experiments.train][INFO] - Postprocessing completed for 7Z6F (peptide ligand id: nat, sample: 0)\n",
            "[2025-06-05 18:45:31,561][experiments.train][INFO] - Done sample 7Z6F (peptide ligand id: nat, sample: 1), saved to /content/DiffPepBuilder/runs/docking/05D_06M_2025Y_18h_40m/7Z6F/nat/7Z6F_nat_sample_1.pdb\n",
            "[2025-06-05 18:45:31,561][experiments.train][INFO] - Postprocessing 7Z6F (peptide ligand id: nat, sample: 1)...\n",
            "Skipping Amber relaxation due to error: Minimization failed after 100 attempts.\n",
            "[2025-06-05 18:47:59,996][pyrosetta.rosetta][INFO] - Found rosetta database at: /usr/local/lib/python3.11/dist-packages/pyrosetta/database; using it....\n",
            "┌──────────────────────────────────────────────────────────────────────────────┐\n",
            "│                                 PyRosetta-4                                  │\n",
            "│              Created in JHU by Sergey Lyskov and PyRosetta Team              │\n",
            "│              (C) Copyright Rosetta Commons Member Institutions               │\n",
            "│                                                                              │\n",
            "│ NOTE: USE OF PyRosetta FOR COMMERCIAL PURPOSES REQUIRE PURCHASE OF A LICENSE │\n",
            "│         See LICENSE.PyRosetta.md or email license@uw.edu for details         │\n",
            "└──────────────────────────────────────────────────────────────────────────────┘\n",
            "PyRosetta-4 2024 [Rosetta PyRosetta4.MinSizeRel.python311.linux 2024.39+release.59628fbc5bc09f1221e1642f1f8d157ce49b1410 2024-09-23T07:49:48] retrieved from: http://www.pyrosetta.org\n",
            "[2025-06-05 18:47:59,998][pyrosetta.rosetta][INFO] - ┌──────────────────────────────────────────────────────────────────────────────┐\n",
            "│                                 PyRosetta-4                                  │\n",
            "│              Created in JHU by Sergey Lyskov and PyRosetta Team              │\n",
            "│              (C) Copyright Rosetta Commons Member Institutions               │\n",
            "│                                                                              │\n",
            "│ NOTE: USE OF PyRosetta FOR COMMERCIAL PURPOSES REQUIRE PURCHASE OF A LICENSE │\n",
            "│         See LICENSE.PyRosetta.md or email license@uw.edu for details         │\n",
            "└──────────────────────────────────────────────────────────────────────────────┘\n",
            "PyRosetta-4 2024 [Rosetta PyRosetta4.MinSizeRel.python311.linux 2024.39+release.59628fbc5bc09f1221e1642f1f8d157ce49b1410 2024-09-23T07:49:48] retrieved from: http://www.pyrosetta.org\n",
            "[2025-06-05 18:48:29,861][experiments.train][INFO] - Postprocessing completed for 7Z6F (peptide ligand id: nat, sample: 1)\n",
            "[2025-06-05 18:48:29,880][experiments.train][INFO] - Done sample 7Z6F (peptide ligand id: nat, sample: 2), saved to /content/DiffPepBuilder/runs/docking/05D_06M_2025Y_18h_40m/7Z6F/nat/7Z6F_nat_sample_2.pdb\n",
            "[2025-06-05 18:48:29,880][experiments.train][INFO] - Postprocessing 7Z6F (peptide ligand id: nat, sample: 2)...\n",
            "Skipping Amber relaxation due to error: Minimization failed after 100 attempts.\n",
            "[2025-06-05 18:50:58,731][pyrosetta.rosetta][INFO] - Found rosetta database at: /usr/local/lib/python3.11/dist-packages/pyrosetta/database; using it....\n",
            "┌──────────────────────────────────────────────────────────────────────────────┐\n",
            "│                                 PyRosetta-4                                  │\n",
            "│              Created in JHU by Sergey Lyskov and PyRosetta Team              │\n",
            "│              (C) Copyright Rosetta Commons Member Institutions               │\n",
            "│                                                                              │\n",
            "│ NOTE: USE OF PyRosetta FOR COMMERCIAL PURPOSES REQUIRE PURCHASE OF A LICENSE │\n",
            "│         See LICENSE.PyRosetta.md or email license@uw.edu for details         │\n",
            "└──────────────────────────────────────────────────────────────────────────────┘\n",
            "PyRosetta-4 2024 [Rosetta PyRosetta4.MinSizeRel.python311.linux 2024.39+release.59628fbc5bc09f1221e1642f1f8d157ce49b1410 2024-09-23T07:49:48] retrieved from: http://www.pyrosetta.org\n",
            "[2025-06-05 18:50:58,732][pyrosetta.rosetta][INFO] - ┌──────────────────────────────────────────────────────────────────────────────┐\n",
            "│                                 PyRosetta-4                                  │\n",
            "│              Created in JHU by Sergey Lyskov and PyRosetta Team              │\n",
            "│              (C) Copyright Rosetta Commons Member Institutions               │\n",
            "│                                                                              │\n",
            "│ NOTE: USE OF PyRosetta FOR COMMERCIAL PURPOSES REQUIRE PURCHASE OF A LICENSE │\n",
            "│         See LICENSE.PyRosetta.md or email license@uw.edu for details         │\n",
            "└──────────────────────────────────────────────────────────────────────────────┘\n",
            "PyRosetta-4 2024 [Rosetta PyRosetta4.MinSizeRel.python311.linux 2024.39+release.59628fbc5bc09f1221e1642f1f8d157ce49b1410 2024-09-23T07:49:48] retrieved from: http://www.pyrosetta.org\n",
            "[2025-06-05 18:51:27,950][experiments.train][INFO] - Postprocessing completed for 7Z6F (peptide ligand id: nat, sample: 2)\n",
            "[2025-06-05 18:51:27,966][experiments.train][INFO] - Done sample 7Z6F (peptide ligand id: nat, sample: 3), saved to /content/DiffPepBuilder/runs/docking/05D_06M_2025Y_18h_40m/7Z6F/nat/7Z6F_nat_sample_3.pdb\n",
            "[2025-06-05 18:51:27,966][experiments.train][INFO] - Postprocessing 7Z6F (peptide ligand id: nat, sample: 3)...\n",
            "Skipping Amber relaxation due to error: Minimization failed after 100 attempts.\n",
            "[2025-06-05 18:53:55,910][pyrosetta.rosetta][INFO] - Found rosetta database at: /usr/local/lib/python3.11/dist-packages/pyrosetta/database; using it....\n",
            "┌──────────────────────────────────────────────────────────────────────────────┐\n",
            "│                                 PyRosetta-4                                  │\n",
            "│              Created in JHU by Sergey Lyskov and PyRosetta Team              │\n",
            "│              (C) Copyright Rosetta Commons Member Institutions               │\n",
            "│                                                                              │\n",
            "│ NOTE: USE OF PyRosetta FOR COMMERCIAL PURPOSES REQUIRE PURCHASE OF A LICENSE │\n",
            "│         See LICENSE.PyRosetta.md or email license@uw.edu for details         │\n",
            "└──────────────────────────────────────────────────────────────────────────────┘\n",
            "PyRosetta-4 2024 [Rosetta PyRosetta4.MinSizeRel.python311.linux 2024.39+release.59628fbc5bc09f1221e1642f1f8d157ce49b1410 2024-09-23T07:49:48] retrieved from: http://www.pyrosetta.org\n",
            "[2025-06-05 18:53:55,912][pyrosetta.rosetta][INFO] - ┌──────────────────────────────────────────────────────────────────────────────┐\n",
            "│                                 PyRosetta-4                                  │\n",
            "│              Created in JHU by Sergey Lyskov and PyRosetta Team              │\n",
            "│              (C) Copyright Rosetta Commons Member Institutions               │\n",
            "│                                                                              │\n",
            "│ NOTE: USE OF PyRosetta FOR COMMERCIAL PURPOSES REQUIRE PURCHASE OF A LICENSE │\n",
            "│         See LICENSE.PyRosetta.md or email license@uw.edu for details         │\n",
            "└──────────────────────────────────────────────────────────────────────────────┘\n",
            "PyRosetta-4 2024 [Rosetta PyRosetta4.MinSizeRel.python311.linux 2024.39+release.59628fbc5bc09f1221e1642f1f8d157ce49b1410 2024-09-23T07:49:48] retrieved from: http://www.pyrosetta.org\n",
            "[2025-06-05 18:54:26,434][experiments.train][INFO] - Postprocessing completed for 7Z6F (peptide ligand id: nat, sample: 3)\n",
            "[2025-06-05 18:54:26,434][experiments.train][INFO] - Finished all peptide docking tasks in 849.09s.\n"
          ]
        }
      ],
      "source": [
        "#@title ### Run docking\n",
        "#@markdown - Postprocessing will be performed automatically after docking.\n",
        "os.environ['BASE_PATH'] = \"/content/DiffPepBuilder\"\n",
        "\n",
        "!torchrun --nproc-per-node=1 DiffPepBuilder/experiments/run_docking.py \\\n",
        "  data.val_csv_path=test_case/metadata_test.csv \\\n",
        "  experiment.use_ddp=False \\\n",
        "  experiment.num_gpus=1 \\\n",
        "  experiment.num_loader_workers=1"
      ]
    },
    {
      "cell_type": "code",
      "execution_count": 8,
      "metadata": {
        "cellView": "form",
        "colab": {
          "base_uri": "https://localhost:8080/",
          "height": 17
        },
        "id": "SD90AEzE5TVm",
        "outputId": "a22cee4f-74ae-4440-a69a-683d8856b6ef"
      },
      "outputs": [
        {
          "data": {
            "application/javascript": "\n    async function download(id, filename, size) {\n      if (!google.colab.kernel.accessAllowed) {\n        return;\n      }\n      const div = document.createElement('div');\n      const label = document.createElement('label');\n      label.textContent = `Downloading \"${filename}\": `;\n      div.appendChild(label);\n      const progress = document.createElement('progress');\n      progress.max = size;\n      div.appendChild(progress);\n      document.body.appendChild(div);\n\n      const buffers = [];\n      let downloaded = 0;\n\n      const channel = await google.colab.kernel.comms.open(id);\n      // Send a message to notify the kernel that we're ready.\n      channel.send({})\n\n      for await (const message of channel.messages) {\n        // Send a message to notify the kernel that we're ready.\n        channel.send({})\n        if (message.buffers) {\n          for (const buffer of message.buffers) {\n            buffers.push(buffer);\n            downloaded += buffer.byteLength;\n            progress.value = downloaded;\n          }\n        }\n      }\n      const blob = new Blob(buffers, {type: 'application/binary'});\n      const a = document.createElement('a');\n      a.href = window.URL.createObjectURL(blob);\n      a.download = filename;\n      div.appendChild(a);\n      a.click();\n      div.remove();\n    }\n  ",
            "text/plain": [
              "<IPython.core.display.Javascript object>"
            ]
          },
          "metadata": {},
          "output_type": "display_data"
        },
        {
          "data": {
            "application/javascript": "download(\"download_5991f841-80f0-4d04-9476-9c3cb65ea9b6\", \"docking_results.tar.gz\", 2635228)",
            "text/plain": [
              "<IPython.core.display.Javascript object>"
            ]
          },
          "metadata": {},
          "output_type": "display_data"
        }
      ],
      "source": [
        "#@title ### Download results\n",
        "#@markdown - The docking results will be saved in the `DiffPepBuilder/runs` folder.\n",
        "\n",
        "!tar --directory=/content/DiffPepBuilder/runs -czf /content/docking_results.tar.gz docking\n",
        "files.download(\"/content/docking_results.tar.gz\")"
      ]
    }
  ],
  "metadata": {
    "accelerator": "GPU",
    "colab": {
      "gpuType": "T4",
      "provenance": []
    },
    "kernelspec": {
      "display_name": "Python 3",
      "name": "python3"
    },
    "language_info": {
      "name": "python",
      "version": "3.9.16"
    },
    "widgets": {
      "application/vnd.jupyter.widget-state+json": {
        "1730c85007b94926be510fa81ebf93e0": {
          "model_module": "@jupyter-widgets/base",
          "model_module_version": "1.2.0",
          "model_name": "LayoutModel",
          "state": {
            "_model_module": "@jupyter-widgets/base",
            "_model_module_version": "1.2.0",
            "_model_name": "LayoutModel",
            "_view_count": null,
            "_view_module": "@jupyter-widgets/base",
            "_view_module_version": "1.2.0",
            "_view_name": "LayoutView",
            "align_content": null,
            "align_items": null,
            "align_self": null,
            "border": null,
            "bottom": null,
            "display": null,
            "flex": null,
            "flex_flow": null,
            "grid_area": null,
            "grid_auto_columns": null,
            "grid_auto_flow": null,
            "grid_auto_rows": null,
            "grid_column": null,
            "grid_gap": null,
            "grid_row": null,
            "grid_template_areas": null,
            "grid_template_columns": null,
            "grid_template_rows": null,
            "height": null,
            "justify_content": null,
            "justify_items": null,
            "left": null,
            "margin": null,
            "max_height": null,
            "max_width": null,
            "min_height": null,
            "min_width": null,
            "object_fit": null,
            "object_position": null,
            "order": null,
            "overflow": null,
            "overflow_x": null,
            "overflow_y": null,
            "padding": null,
            "right": null,
            "top": null,
            "visibility": null,
            "width": null
          }
        },
        "1bd19c2688fd4a13b776ca4cd705877b": {
          "model_module": "@jupyter-widgets/output",
          "model_module_version": "1.0.0",
          "model_name": "OutputModel",
          "state": {
            "_dom_classes": [],
            "_model_module": "@jupyter-widgets/output",
            "_model_module_version": "1.0.0",
            "_model_name": "OutputModel",
            "_view_count": null,
            "_view_module": "@jupyter-widgets/output",
            "_view_module_version": "1.0.0",
            "_view_name": "OutputView",
            "layout": "IPY_MODEL_2d7575a33c614717a7338dfa596a694e",
            "msg_id": "",
            "outputs": [
              {
                "data": {
                  "application/vnd.jupyter.widget-view+json": {
                    "model_id": "d75739dbbe254bc1a762891f318d3543",
                    "version_major": 2,
                    "version_minor": 0
                  },
                  "text/plain": "VBox(children=(Text(value='VLGEPRYAFNFN', description='Peptide Sequence:', style=DescriptionStyle(description_…"
                },
                "metadata": {},
                "output_type": "display_data"
              },
              {
                "name": "stdout",
                "output_type": "stream",
                "text": [
                  "Saved single-sequence file to test_case/peptide_seq.fasta\n"
                ]
              }
            ]
          }
        },
        "2d7575a33c614717a7338dfa596a694e": {
          "model_module": "@jupyter-widgets/base",
          "model_module_version": "1.2.0",
          "model_name": "LayoutModel",
          "state": {
            "_model_module": "@jupyter-widgets/base",
            "_model_module_version": "1.2.0",
            "_model_name": "LayoutModel",
            "_view_count": null,
            "_view_module": "@jupyter-widgets/base",
            "_view_module_version": "1.2.0",
            "_view_name": "LayoutView",
            "align_content": null,
            "align_items": null,
            "align_self": null,
            "border": null,
            "bottom": null,
            "display": null,
            "flex": null,
            "flex_flow": null,
            "grid_area": null,
            "grid_auto_columns": null,
            "grid_auto_flow": null,
            "grid_auto_rows": null,
            "grid_column": null,
            "grid_gap": null,
            "grid_row": null,
            "grid_template_areas": null,
            "grid_template_columns": null,
            "grid_template_rows": null,
            "height": null,
            "justify_content": null,
            "justify_items": null,
            "left": null,
            "margin": null,
            "max_height": null,
            "max_width": null,
            "min_height": null,
            "min_width": null,
            "object_fit": null,
            "object_position": null,
            "order": null,
            "overflow": null,
            "overflow_x": null,
            "overflow_y": null,
            "padding": null,
            "right": null,
            "top": null,
            "visibility": null,
            "width": null
          }
        },
        "328bdf2a8aab4a5e947bbf10d4ccc4f0": {
          "model_module": "@jupyter-widgets/controls",
          "model_module_version": "1.5.0",
          "model_name": "ButtonModel",
          "state": {
            "_dom_classes": [],
            "_model_module": "@jupyter-widgets/controls",
            "_model_module_version": "1.5.0",
            "_model_name": "ButtonModel",
            "_view_count": null,
            "_view_module": "@jupyter-widgets/controls",
            "_view_module_version": "1.5.0",
            "_view_name": "ButtonView",
            "button_style": "success",
            "description": "Save Sequence",
            "disabled": false,
            "icon": "",
            "layout": "IPY_MODEL_79a11ea68a8246d88750708f87a21bc6",
            "style": "IPY_MODEL_52ac9956563448f79bcbf0ec5834fbaa",
            "tooltip": ""
          }
        },
        "4d26d4f344cd422daf89d4a510d73d4c": {
          "model_module": "@jupyter-widgets/controls",
          "model_module_version": "1.5.0",
          "model_name": "TextModel",
          "state": {
            "_dom_classes": [],
            "_model_module": "@jupyter-widgets/controls",
            "_model_module_version": "1.5.0",
            "_model_name": "TextModel",
            "_view_count": null,
            "_view_module": "@jupyter-widgets/controls",
            "_view_module_version": "1.5.0",
            "_view_name": "TextView",
            "continuous_update": true,
            "description": "Peptide Sequence:",
            "description_tooltip": null,
            "disabled": false,
            "layout": "IPY_MODEL_c2a1cc00ff0749588439c6ee3f1cc8ef",
            "placeholder": "​",
            "style": "IPY_MODEL_89b3a79510d642078a1cb25640fe2549",
            "value": "VLGEPRYAFNFN"
          }
        },
        "52ac9956563448f79bcbf0ec5834fbaa": {
          "model_module": "@jupyter-widgets/controls",
          "model_module_version": "1.5.0",
          "model_name": "ButtonStyleModel",
          "state": {
            "_model_module": "@jupyter-widgets/controls",
            "_model_module_version": "1.5.0",
            "_model_name": "ButtonStyleModel",
            "_view_count": null,
            "_view_module": "@jupyter-widgets/base",
            "_view_module_version": "1.2.0",
            "_view_name": "StyleView",
            "button_color": null,
            "font_weight": ""
          }
        },
        "70b6425d1d2b402ea91edbae8c004b71": {
          "model_module": "@jupyter-widgets/controls",
          "model_module_version": "1.5.0",
          "model_name": "TextModel",
          "state": {
            "_dom_classes": [],
            "_model_module": "@jupyter-widgets/controls",
            "_model_module_version": "1.5.0",
            "_model_name": "TextModel",
            "_view_count": null,
            "_view_module": "@jupyter-widgets/controls",
            "_view_module_version": "1.5.0",
            "_view_name": "TextView",
            "continuous_update": true,
            "description": "Peptide ID:",
            "description_tooltip": null,
            "disabled": false,
            "layout": "IPY_MODEL_97f451a06a87439cb977ede952339a06",
            "placeholder": "​",
            "style": "IPY_MODEL_a0c3bf6adb344df689e6d35645ad0c5a",
            "value": "nat"
          }
        },
        "79a11ea68a8246d88750708f87a21bc6": {
          "model_module": "@jupyter-widgets/base",
          "model_module_version": "1.2.0",
          "model_name": "LayoutModel",
          "state": {
            "_model_module": "@jupyter-widgets/base",
            "_model_module_version": "1.2.0",
            "_model_name": "LayoutModel",
            "_view_count": null,
            "_view_module": "@jupyter-widgets/base",
            "_view_module_version": "1.2.0",
            "_view_name": "LayoutView",
            "align_content": null,
            "align_items": null,
            "align_self": null,
            "border": null,
            "bottom": null,
            "display": null,
            "flex": null,
            "flex_flow": null,
            "grid_area": null,
            "grid_auto_columns": null,
            "grid_auto_flow": null,
            "grid_auto_rows": null,
            "grid_column": null,
            "grid_gap": null,
            "grid_row": null,
            "grid_template_areas": null,
            "grid_template_columns": null,
            "grid_template_rows": null,
            "height": null,
            "justify_content": null,
            "justify_items": null,
            "left": null,
            "margin": null,
            "max_height": null,
            "max_width": null,
            "min_height": null,
            "min_width": null,
            "object_fit": null,
            "object_position": null,
            "order": null,
            "overflow": null,
            "overflow_x": null,
            "overflow_y": null,
            "padding": null,
            "right": null,
            "top": null,
            "visibility": null,
            "width": null
          }
        },
        "89b3a79510d642078a1cb25640fe2549": {
          "model_module": "@jupyter-widgets/controls",
          "model_module_version": "1.5.0",
          "model_name": "DescriptionStyleModel",
          "state": {
            "_model_module": "@jupyter-widgets/controls",
            "_model_module_version": "1.5.0",
            "_model_name": "DescriptionStyleModel",
            "_view_count": null,
            "_view_module": "@jupyter-widgets/base",
            "_view_module_version": "1.2.0",
            "_view_name": "StyleView",
            "description_width": "initial"
          }
        },
        "97f451a06a87439cb977ede952339a06": {
          "model_module": "@jupyter-widgets/base",
          "model_module_version": "1.2.0",
          "model_name": "LayoutModel",
          "state": {
            "_model_module": "@jupyter-widgets/base",
            "_model_module_version": "1.2.0",
            "_model_name": "LayoutModel",
            "_view_count": null,
            "_view_module": "@jupyter-widgets/base",
            "_view_module_version": "1.2.0",
            "_view_name": "LayoutView",
            "align_content": null,
            "align_items": null,
            "align_self": null,
            "border": null,
            "bottom": null,
            "display": null,
            "flex": null,
            "flex_flow": null,
            "grid_area": null,
            "grid_auto_columns": null,
            "grid_auto_flow": null,
            "grid_auto_rows": null,
            "grid_column": null,
            "grid_gap": null,
            "grid_row": null,
            "grid_template_areas": null,
            "grid_template_columns": null,
            "grid_template_rows": null,
            "height": null,
            "justify_content": null,
            "justify_items": null,
            "left": null,
            "margin": null,
            "max_height": null,
            "max_width": null,
            "min_height": null,
            "min_width": null,
            "object_fit": null,
            "object_position": null,
            "order": null,
            "overflow": null,
            "overflow_x": null,
            "overflow_y": null,
            "padding": null,
            "right": null,
            "top": null,
            "visibility": null,
            "width": null
          }
        },
        "9a4c5a7957204e049dae03d8c967f233": {
          "model_module": "@jupyter-widgets/controls",
          "model_module_version": "1.5.0",
          "model_name": "DropdownModel",
          "state": {
            "_dom_classes": [],
            "_model_module": "@jupyter-widgets/controls",
            "_model_module_version": "1.5.0",
            "_model_name": "DropdownModel",
            "_options_labels": [
              "single",
              "batch"
            ],
            "_view_count": null,
            "_view_module": "@jupyter-widgets/controls",
            "_view_module_version": "1.5.0",
            "_view_name": "DropdownView",
            "description": "Docking Mode:",
            "description_tooltip": null,
            "disabled": false,
            "index": 0,
            "layout": "IPY_MODEL_1730c85007b94926be510fa81ebf93e0",
            "style": "IPY_MODEL_ad8081db98ba4f018c7da5bf7c7fb917"
          }
        },
        "a0c3bf6adb344df689e6d35645ad0c5a": {
          "model_module": "@jupyter-widgets/controls",
          "model_module_version": "1.5.0",
          "model_name": "DescriptionStyleModel",
          "state": {
            "_model_module": "@jupyter-widgets/controls",
            "_model_module_version": "1.5.0",
            "_model_name": "DescriptionStyleModel",
            "_view_count": null,
            "_view_module": "@jupyter-widgets/base",
            "_view_module_version": "1.2.0",
            "_view_name": "StyleView",
            "description_width": "initial"
          }
        },
        "ad8081db98ba4f018c7da5bf7c7fb917": {
          "model_module": "@jupyter-widgets/controls",
          "model_module_version": "1.5.0",
          "model_name": "DescriptionStyleModel",
          "state": {
            "_model_module": "@jupyter-widgets/controls",
            "_model_module_version": "1.5.0",
            "_model_name": "DescriptionStyleModel",
            "_view_count": null,
            "_view_module": "@jupyter-widgets/base",
            "_view_module_version": "1.2.0",
            "_view_name": "StyleView",
            "description_width": "initial"
          }
        },
        "c11812e99a374bf38fac694f8b5ae24d": {
          "model_module": "@jupyter-widgets/base",
          "model_module_version": "1.2.0",
          "model_name": "LayoutModel",
          "state": {
            "_model_module": "@jupyter-widgets/base",
            "_model_module_version": "1.2.0",
            "_model_name": "LayoutModel",
            "_view_count": null,
            "_view_module": "@jupyter-widgets/base",
            "_view_module_version": "1.2.0",
            "_view_name": "LayoutView",
            "align_content": null,
            "align_items": null,
            "align_self": null,
            "border": null,
            "bottom": null,
            "display": null,
            "flex": null,
            "flex_flow": null,
            "grid_area": null,
            "grid_auto_columns": null,
            "grid_auto_flow": null,
            "grid_auto_rows": null,
            "grid_column": null,
            "grid_gap": null,
            "grid_row": null,
            "grid_template_areas": null,
            "grid_template_columns": null,
            "grid_template_rows": null,
            "height": null,
            "justify_content": null,
            "justify_items": null,
            "left": null,
            "margin": null,
            "max_height": null,
            "max_width": null,
            "min_height": null,
            "min_width": null,
            "object_fit": null,
            "object_position": null,
            "order": null,
            "overflow": null,
            "overflow_x": null,
            "overflow_y": null,
            "padding": null,
            "right": null,
            "top": null,
            "visibility": null,
            "width": null
          }
        },
        "c2a1cc00ff0749588439c6ee3f1cc8ef": {
          "model_module": "@jupyter-widgets/base",
          "model_module_version": "1.2.0",
          "model_name": "LayoutModel",
          "state": {
            "_model_module": "@jupyter-widgets/base",
            "_model_module_version": "1.2.0",
            "_model_name": "LayoutModel",
            "_view_count": null,
            "_view_module": "@jupyter-widgets/base",
            "_view_module_version": "1.2.0",
            "_view_name": "LayoutView",
            "align_content": null,
            "align_items": null,
            "align_self": null,
            "border": null,
            "bottom": null,
            "display": null,
            "flex": null,
            "flex_flow": null,
            "grid_area": null,
            "grid_auto_columns": null,
            "grid_auto_flow": null,
            "grid_auto_rows": null,
            "grid_column": null,
            "grid_gap": null,
            "grid_row": null,
            "grid_template_areas": null,
            "grid_template_columns": null,
            "grid_template_rows": null,
            "height": null,
            "justify_content": null,
            "justify_items": null,
            "left": null,
            "margin": null,
            "max_height": null,
            "max_width": null,
            "min_height": null,
            "min_width": null,
            "object_fit": null,
            "object_position": null,
            "order": null,
            "overflow": null,
            "overflow_x": null,
            "overflow_y": null,
            "padding": null,
            "right": null,
            "top": null,
            "visibility": null,
            "width": null
          }
        },
        "d75739dbbe254bc1a762891f318d3543": {
          "model_module": "@jupyter-widgets/controls",
          "model_module_version": "1.5.0",
          "model_name": "VBoxModel",
          "state": {
            "_dom_classes": [],
            "_model_module": "@jupyter-widgets/controls",
            "_model_module_version": "1.5.0",
            "_model_name": "VBoxModel",
            "_view_count": null,
            "_view_module": "@jupyter-widgets/controls",
            "_view_module_version": "1.5.0",
            "_view_name": "VBoxView",
            "box_style": "",
            "children": [
              "IPY_MODEL_4d26d4f344cd422daf89d4a510d73d4c",
              "IPY_MODEL_70b6425d1d2b402ea91edbae8c004b71",
              "IPY_MODEL_328bdf2a8aab4a5e947bbf10d4ccc4f0"
            ],
            "layout": "IPY_MODEL_c11812e99a374bf38fac694f8b5ae24d"
          }
        }
      }
    }
  },
  "nbformat": 4,
  "nbformat_minor": 0
}
