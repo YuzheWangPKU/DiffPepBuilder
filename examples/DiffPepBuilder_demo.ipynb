{
  "cells": [
    {
      "cell_type": "markdown",
      "metadata": {
        "id": "Lf7MMQef4zVc"
      },
      "source": [
        "# Target-Specific De Novo Peptide Binder Design with DiffPepBuilder"
      ]
    },
    {
      "cell_type": "markdown",
      "metadata": {
        "id": "wuobwMy44zVd"
      },
      "source": [
        "<img src=\"https://github.com/YuzheWangPKU/DiffPepBuilder/blob/main/examples/figures/dpb_model.jpg?raw=true\">\n",
        "\n",
        "This notebook demonstrates how to use the [DiffPepBuilder](https://github.com/YuzheWangPKU/DiffPepBuilder) tool to design peptides that bind to a target protein. We provide an example of the target ALK1 (Activin Receptor-like Kinase 1, PDB ID: [6SF1](https://www.rcsb.org/structure/6SF1)) to demonstrate the procedures of generating peptide binders."
      ]
    },
    {
      "cell_type": "markdown",
      "metadata": {
        "id": "M-oQLvH3rLw1"
      },
      "source": [
        "## Setup"
      ]
    },
    {
      "cell_type": "code",
      "execution_count": 1,
      "metadata": {
        "cellView": "form",
        "colab": {
          "base_uri": "https://localhost:8080/"
        },
        "id": "JH01KLI65ZKP",
        "outputId": "360ffd59-c55c-41b8-c78e-269dde75408a"
      },
      "outputs": [
        {
          "output_type": "stream",
          "name": "stdout",
          "text": [
            "Installing DiffPepBuilder...\n",
            "Installing SSBLIB...\n",
            "Downloading model weights...\n",
            "DiffPepBuilder is installed and ready.\n"
          ]
        }
      ],
      "source": [
        "#@title ### Download model assets\n",
        "import os\n",
        "\n",
        "diffpep_folder = \"DiffPepBuilder\"\n",
        "ssbuilder_lib = os.path.join(diffpep_folder, \"SSbuilder\", \"SSBLIB\")\n",
        "checkpoint_file = os.path.join(diffpep_folder, \"experiments\", \"checkpoints\", \"diffpepbuilder_v1.pth\")\n",
        "\n",
        "if not (os.path.isdir(diffpep_folder) and os.path.isdir(ssbuilder_lib) and os.path.isfile(checkpoint_file)):\n",
        "  print(\"Installing DiffPepBuilder...\")\n",
        "\n",
        "  if not os.path.isdir(diffpep_folder):\n",
        "    os.system(\"git clone https://github.com/YuzheWangPKU/DiffPepBuilder.git\")\n",
        "\n",
        "  os.chdir(diffpep_folder)\n",
        "\n",
        "  if not os.path.isdir(ssbuilder_lib):\n",
        "    print(\"Installing SSBLIB...\")\n",
        "    os.system(\"tar -xvf SSbuilder/SSBLIB.tar.gz -C SSbuilder\")\n",
        "\n",
        "  if not os.path.isfile(checkpoint_file):\n",
        "    print(\"Downloading model weights...\")\n",
        "    os.system(\"wget https://zenodo.org/records/12794439/files/diffpepbuilder_v1.pth\")\n",
        "    os.makedirs(\"experiments/checkpoints/\", exist_ok=True)\n",
        "    os.system(\"mv diffpepbuilder_v1.pth experiments/checkpoints/\")\n",
        "\n",
        "  os.chdir(\"..\")\n",
        "  print(\"DiffPepBuilder is installed and ready.\")\n",
        "\n",
        "else:\n",
        "  print(\"DiffPepBuilder is already installed and ready.\")"
      ]
    },
    {
      "cell_type": "code",
      "execution_count": 2,
      "metadata": {
        "cellView": "form",
        "colab": {
          "base_uri": "https://localhost:8080/"
        },
        "id": "pDG1HhY1-f8k",
        "outputId": "ea1ee27b-9812-4190-d884-d291d9af4389"
      },
      "outputs": [
        {
          "output_type": "stream",
          "name": "stdout",
          "text": [
            "Installing pdbfixer...\n",
            "pdbfixer is installed.\n"
          ]
        },
        {
          "output_type": "execute_result",
          "data": {
            "text/plain": [
              "0"
            ]
          },
          "metadata": {},
          "execution_count": 2
        }
      ],
      "source": [
        "#@title ### Install dependencies\n",
        "os.system(\"pip install wget wandb fair-esm biotite pyrootutils easydict biopython tqdm ml-collections mdtraj GPUtil dm-tree tmtools py3Dmol\")\n",
        "os.system(\"wget https://west.rosettacommons.org/pyrosetta/release/release/PyRosetta4.MinSizeRel.python312.linux.wheel/pyrosetta-2024.39+release.59628fb-cp312-cp312-linux_x86_64.whl\")\n",
        "os.system(\"pip install pyrosetta-2024.39+release.59628fb-cp312-cp312-linux_x86_64.whl\")\n",
        "os.system(\"rm pyrosetta-2024.39+release.59628fb-cp312-cp312-linux_x86_64.whl\")\n",
        "\n",
        "pdbfixer_folder = \"pdbfixer\"\n",
        "if not os.path.isdir(pdbfixer_folder):\n",
        "  print(\"Installing pdbfixer...\")\n",
        "  os.system(\"git clone https://github.com/openmm/pdbfixer.git\")\n",
        "  os.chdir(pdbfixer_folder)\n",
        "  os.system(\"python setup.py install\")\n",
        "  os.chdir(\"..\")\n",
        "  print(\"pdbfixer is installed.\")\n",
        "else:\n",
        "  print(\"pdbfixer is already cloned.\")\n",
        "\n",
        "os.system(\"pip install hydra-core hydra-joblib-launcher\")"
      ]
    },
    {
      "cell_type": "markdown",
      "metadata": {
        "id": "m5ld4hUNqTcP"
      },
      "source": [
        "## Inference"
      ]
    },
    {
      "cell_type": "code",
      "execution_count": 3,
      "metadata": {
        "cellView": "form",
        "id": "0KH7alTw5R-M"
      },
      "outputs": [],
      "source": [
        "#@title ### Specify receptor information\n",
        "from google.colab import files\n",
        "import json\n",
        "\n",
        "os.makedirs(\"test_case\", exist_ok=True)\n",
        "receptor_type = \"default (ALK1)\" #@param [\"default (ALK1)\", \"uploaded\"]\n",
        "\n",
        "if receptor_type == \"uploaded\":\n",
        "  uploaded_pdb = files.upload()\n",
        "  file_name = next(iter(uploaded_pdb))\n",
        "  if not file_name.endswith(\".pdb\"):\n",
        "    raise ValueError(\"Please upload in PDB format.\")\n",
        "  os.system(f\"cp {file_name} test_case/\")\n",
        "  os.system(f\"cp {file_name} DiffPepBuilder/examples/receptor_data/\")\n",
        "else:\n",
        "  file_name = \"alk1.pdb\"\n",
        "  os.system(f\"cp DiffPepBuilder/examples/receptor_data/alk1.pdb test_case/\")\n",
        "#@markdown - **Note**: please remove non-protein components from the PDB file and ensure that the CA atoms are present.\n",
        "\n",
        "lig_chain = None #@param {type:\"string\"}\n",
        "#@markdown  - Chain ID of the **reference** ligand. Please set to `None` if no reference ligand is included in the PDB file.\n",
        "#@markdown  The model will prioritize reference ligand information over the hotspots and motif if both are given.\n",
        "hotspots = \"B40,B58,B59,B71,B72,B87\" #@param {type:\"string\"}\n",
        "motif = \"B38,B39,B40,B41,B42,B47,B48,B49,B50,B52,B53,B54,B55,B56,B57,B58,B59,B60,B61,B64,B65,B66,B67,B69,B70,B71,B72,B73,B74,B75,B76,B77,B82,B83,B84,B85,B86,B87\" #@param {type:\"string\"}\n",
        "#@markdown - **Note**: the model will prioritize hotspots over the motif when both are given. See the [paper](https://arxiv.org/abs/2405.00128) for more details.\n",
        "\n",
        "key = os.path.splitext(file_name)[0]\n",
        "data = {}\n",
        "if lig_chain and lig_chain != \"None\":\n",
        "  data['lig_chain'] = lig_chain\n",
        "if hotspots and hotspots != \"None\":\n",
        "  data['hotspots'] = hotspots.replace(\",\", \"-\")\n",
        "if motif and motif != \"None\":\n",
        "  data['motif'] = motif.replace(\",\", \"-\")\n",
        "\n",
        "json_file_write_path = \"test_case/de_novo_cases.json\"\n",
        "final_data = {key: data}\n",
        "with open(json_file_write_path, 'w') as file:\n",
        "  json.dump(final_data, file, indent=4)"
      ]
    },
    {
      "cell_type": "code",
      "execution_count": 4,
      "metadata": {
        "cellView": "form",
        "colab": {
          "base_uri": "https://localhost:8080/"
        },
        "id": "Nt9hFAMAqM-b",
        "outputId": "1d192f98-2523-41d3-8f97-766a671de445"
      },
      "outputs": [
        {
          "output_type": "stream",
          "name": "stdout",
          "text": [
            "/content/DiffPepBuilder/data/so3_utils.py:85: SyntaxWarning: invalid escape sequence '\\{'\n",
            "  :math:`\\{1, \\cos(angle) + i \\sin(angle), \\cos(angle) - i \\sin(angle)\\}`\n",
            "Files will be written to test_case\n",
            "/content/DiffPepBuilder/experiments/preprocess_utils.py:200: UserWarning: Both motif and hotspots for alk1; hotspots take priority.\n",
            "  warnings.warn(\n",
            "Finished test_case/alk1.pdb in 0.04s\n",
            "Finished processing 1/1 files. Start ESM embedding...\n",
            "Model file /content/DiffPepBuilder/experiments/checkpoints/esm2_t33_650M_UR50D.pt not found. Downloading...\n",
            "Model file /content/DiffPepBuilder/experiments/checkpoints/esm2_t33_650M_UR50D-contact-regression.pt not found. Downloading...\n",
            "Read sequence data with 1 sequences\n",
            "Processing protein sequence batches:   0% 0/1 [00:00<?, ?it/s]Processing 1 of 1 batches (1 sequences)\n",
            "Processing protein sequence batches: 100% 1/1 [00:00<00:00,  1.26it/s]\n",
            "100% 1/1 [00:00<00:00, 1071.89it/s]\n"
          ]
        }
      ],
      "source": [
        "#@title ### Preprocess receptors\n",
        "!python DiffPepBuilder/experiments/process_receptor.py \\\n",
        "  --pdb_dir test_case \\\n",
        "  --write_dir test_case \\\n",
        "  --receptor_info_path test_case/de_novo_cases.json"
      ]
    },
    {
      "cell_type": "code",
      "execution_count": 5,
      "metadata": {
        "cellView": "form",
        "id": "vL6Rz2IHJS-d"
      },
      "outputs": [],
      "source": [
        "#@title ### Customize generation settings\n",
        "import yaml\n",
        "\n",
        "#@markdown #### Sampling params\n",
        "denoising_steps = \"200\" #@param [100, 200, 500]\n",
        "noise_scale = \"1\" #@param [0.5, 1, 1.5, 2, 2.5]\n",
        "seq_temperature = \"0.1\" #@param [0.1, 0.5, 1, 2.5, 10]\n",
        "\n",
        "#@markdown #### Peptide length\n",
        "min_length = 12 #@param {type:\"integer\"}\n",
        "max_length = 16 #@param {type:\"integer\"}\n",
        "samples_per_length = 4 #@param {type:\"integer\"}\n",
        "\n",
        "#@markdown #### Disulfide bond settings\n",
        "build_ss_bond = True #@param {type:\"boolean\"}\n",
        "max_ss_bond = 2 #@param {type:\"integer\"}\n",
        "entropy_threshold = 0.01 #@param [0.001, 0.01, 0.05, 0.1, 0.5]\n",
        "\n",
        "yaml_file_path = \"DiffPepBuilder/config/inference.yaml\"\n",
        "with open(yaml_file_path, 'r') as file:\n",
        "  yaml_data = yaml.safe_load(file)\n",
        "\n",
        "yaml_data['inference']['denoising']['num_t'] = int(denoising_steps)\n",
        "yaml_data['inference']['denoising']['noise_scale'] = float(noise_scale)\n",
        "yaml_data['inference']['sampling']['samples_per_length'] = samples_per_length\n",
        "yaml_data['inference']['sampling']['min_length'] = min_length\n",
        "yaml_data['inference']['sampling']['max_length'] = max_length\n",
        "yaml_data['inference']['sampling']['seq_temperature'] = float(seq_temperature)\n",
        "yaml_data['inference']['ss_bond']['build_ss_bond'] = build_ss_bond\n",
        "yaml_data['inference']['ss_bond']['max_ss_bond'] = max_ss_bond\n",
        "yaml_data['inference']['ss_bond']['entropy_threshold'] = float(entropy_threshold)\n",
        "\n",
        "with open(yaml_file_path, 'w') as file:\n",
        "  yaml.dump(yaml_data, file, default_flow_style=False)\n"
      ]
    },
    {
      "cell_type": "code",
      "execution_count": 6,
      "metadata": {
        "cellView": "form",
        "colab": {
          "base_uri": "https://localhost:8080/"
        },
        "id": "isAKfCpHTEhh",
        "outputId": "a408ab15-1ee1-4526-e0ad-3b86a6e89273"
      },
      "outputs": [
        {
          "output_type": "stream",
          "name": "stdout",
          "text": [
            "/content/DiffPepBuilder/data/so3_diffuser.py:191: SyntaxWarning: invalid escape sequence '\\s'\n",
            "  \"\"\"Extract \\sigma(t) corresponding to chosen sigma schedule.\"\"\"\n",
            "[2025-08-27 10:57:05,194][experiments.train][INFO] - Loading checkpoint from /content/DiffPepBuilder/experiments/checkpoints/diffpepbuilder_v1.pth\n",
            "[2025-08-27 10:57:11,070][data.so3_diffuser][INFO] - Computing IGSO3. Saving in /content/DiffPepBuilder/runs/.cache/eps_1000_omega_1000_min_sigma_0_1_max_sigma_1_5_schedule_logarithmic\n",
            "[2025-08-27 10:58:27,951][experiments.train][INFO] - Number of model parameters: 103.66 M\n",
            "[2025-08-27 10:58:33,476][experiments.train][INFO] - Evaluation mode only, no checkpoint being saved.\n",
            "[2025-08-27 10:58:33,478][experiments.train][INFO] - Evaluation saved to: /content/DiffPepBuilder/runs/inference/27D_08M_2025Y_10h_58m\n",
            "[2025-08-27 10:58:33,596][experiments.train][INFO] - Using device: cuda:0\n",
            "[2025-08-27 10:58:33,602][data.pdb_data_loader][INFO] - Validation: 1 examples\n",
            "/content/DiffPepBuilder/openfold/utils/tensor_utils.py:79: UserWarning: Using a non-tuple sequence for multidimensional indexing is deprecated and will be changed in pytorch 2.9; use x[tuple(seq)] instead of x[seq]. In pytorch 2.9 this will be interpreted as tensor index, x[torch.tensor(seq)], which will result either in an error or a different result (Triggered internally at /pytorch/torch/csrc/autograd/python_variable_indexing.cpp:306.)\n",
            "  return data[ranges]\n",
            "/usr/local/lib/python3.12/dist-packages/torch/nn/modules/transformer.py:515: UserWarning: The PyTorch API of nested tensors is in prototype stage and will change in the near future. We recommend specifying layout=torch.jagged when constructing a nested tensor, as this layout receives active development, has better operator coverage, and works with torch.compile. (Triggered internally at /pytorch/aten/src/ATen/NestedTensorImpl.cpp:178.)\n",
            "  output = torch._nested_tensor_from_mask(\n",
            "[2025-08-27 10:59:04,373][experiments.train][INFO] - Done sample alk1 (peptide length: 14, sample: 0), saved to /content/DiffPepBuilder/runs/inference/27D_08M_2025Y_10h_58m/alk1/length_14/alk1_length_14_sample_0.pdb\n",
            "[2025-08-27 10:59:04,380][experiments.train][INFO] - Done sample alk1 (peptide length: 14, sample: 1), saved to /content/DiffPepBuilder/runs/inference/27D_08M_2025Y_10h_58m/alk1/length_14/alk1_length_14_sample_1.pdb\n",
            "[2025-08-27 10:59:04,387][experiments.train][INFO] - Done sample alk1 (peptide length: 14, sample: 2), saved to /content/DiffPepBuilder/runs/inference/27D_08M_2025Y_10h_58m/alk1/length_14/alk1_length_14_sample_2.pdb\n",
            "[2025-08-27 10:59:04,394][experiments.train][INFO] - Done sample alk1 (peptide length: 14, sample: 3), saved to /content/DiffPepBuilder/runs/inference/27D_08M_2025Y_10h_58m/alk1/length_14/alk1_length_14_sample_3.pdb\n",
            "[2025-08-27 10:59:34,386][experiments.train][INFO] - Done sample alk1 (peptide length: 13, sample: 0), saved to /content/DiffPepBuilder/runs/inference/27D_08M_2025Y_10h_58m/alk1/length_13/alk1_length_13_sample_0.pdb\n",
            "[2025-08-27 10:59:34,393][experiments.train][INFO] - Done sample alk1 (peptide length: 13, sample: 1), saved to /content/DiffPepBuilder/runs/inference/27D_08M_2025Y_10h_58m/alk1/length_13/alk1_length_13_sample_1.pdb\n",
            "[2025-08-27 10:59:34,400][experiments.train][INFO] - Done sample alk1 (peptide length: 13, sample: 2), saved to /content/DiffPepBuilder/runs/inference/27D_08M_2025Y_10h_58m/alk1/length_13/alk1_length_13_sample_2.pdb\n",
            "[2025-08-27 10:59:34,407][experiments.train][INFO] - Done sample alk1 (peptide length: 13, sample: 3), saved to /content/DiffPepBuilder/runs/inference/27D_08M_2025Y_10h_58m/alk1/length_13/alk1_length_13_sample_3.pdb\n",
            "[2025-08-27 11:00:07,631][experiments.train][INFO] - Done sample alk1 (peptide length: 16, sample: 0), saved to /content/DiffPepBuilder/runs/inference/27D_08M_2025Y_10h_58m/alk1/length_16/alk1_length_16_sample_0.pdb\n",
            "[2025-08-27 11:00:07,639][experiments.train][INFO] - Done sample alk1 (peptide length: 16, sample: 1), saved to /content/DiffPepBuilder/runs/inference/27D_08M_2025Y_10h_58m/alk1/length_16/alk1_length_16_sample_1.pdb\n",
            "[2025-08-27 11:00:07,646][experiments.train][INFO] - Done sample alk1 (peptide length: 16, sample: 2), saved to /content/DiffPepBuilder/runs/inference/27D_08M_2025Y_10h_58m/alk1/length_16/alk1_length_16_sample_2.pdb\n",
            "[2025-08-27 11:00:07,653][experiments.train][INFO] - Done sample alk1 (peptide length: 16, sample: 3), saved to /content/DiffPepBuilder/runs/inference/27D_08M_2025Y_10h_58m/alk1/length_16/alk1_length_16_sample_3.pdb\n",
            "[2025-08-27 11:00:37,330][experiments.train][INFO] - Done sample alk1 (peptide length: 12, sample: 0), saved to /content/DiffPepBuilder/runs/inference/27D_08M_2025Y_10h_58m/alk1/length_12/alk1_length_12_sample_0.pdb\n",
            "[2025-08-27 11:00:37,343][experiments.train][INFO] - Done sample alk1 (peptide length: 12, sample: 1), saved to /content/DiffPepBuilder/runs/inference/27D_08M_2025Y_10h_58m/alk1/length_12/alk1_length_12_sample_1.pdb\n",
            "[2025-08-27 11:00:37,357][experiments.train][INFO] - Done sample alk1 (peptide length: 12, sample: 2), saved to /content/DiffPepBuilder/runs/inference/27D_08M_2025Y_10h_58m/alk1/length_12/alk1_length_12_sample_2.pdb\n",
            "[2025-08-27 11:00:37,370][experiments.train][INFO] - Done sample alk1 (peptide length: 12, sample: 3), saved to /content/DiffPepBuilder/runs/inference/27D_08M_2025Y_10h_58m/alk1/length_12/alk1_length_12_sample_3.pdb\n",
            "[2025-08-27 11:01:09,189][experiments.train][INFO] - Done sample alk1 (peptide length: 15, sample: 0), saved to /content/DiffPepBuilder/runs/inference/27D_08M_2025Y_10h_58m/alk1/length_15/alk1_length_15_sample_0.pdb\n",
            "[2025-08-27 11:01:09,197][experiments.train][INFO] - Done sample alk1 (peptide length: 15, sample: 1), saved to /content/DiffPepBuilder/runs/inference/27D_08M_2025Y_10h_58m/alk1/length_15/alk1_length_15_sample_1.pdb\n",
            "[2025-08-27 11:01:09,204][experiments.train][INFO] - Done sample alk1 (peptide length: 15, sample: 2), saved to /content/DiffPepBuilder/runs/inference/27D_08M_2025Y_10h_58m/alk1/length_15/alk1_length_15_sample_2.pdb\n",
            "[2025-08-27 11:01:09,211][experiments.train][INFO] - Done sample alk1 (peptide length: 15, sample: 3), saved to /content/DiffPepBuilder/runs/inference/27D_08M_2025Y_10h_58m/alk1/length_15/alk1_length_15_sample_3.pdb\n",
            "[2025-08-27 11:01:09,211][experiments.train][INFO] - Finished all de novo peptide generation tasks in 155.61s. Start post-processing...\n",
            "['A_6_L@A_16_D']\n",
            "[2025-08-27 11:01:13,336][experiments.train][INFO] - Try building SS bonds for /content/DiffPepBuilder/runs/inference/27D_08M_2025Y_10h_58m/alk1/length_16/alk1_length_16_sample_1.pdb...\n",
            "[2025-08-27 11:01:14,374][experiments.train][INFO] - Successfully built SS bonds for /content/DiffPepBuilder/runs/inference/27D_08M_2025Y_10h_58m/alk1/length_16/alk1_length_16_sample_1.pdb\n",
            "['A_13_F@A_15_V']\n",
            "[2025-08-27 11:01:14,414][experiments.train][INFO] - Try building SS bonds for /content/DiffPepBuilder/runs/inference/27D_08M_2025Y_10h_58m/alk1/length_15/alk1_length_15_sample_3.pdb...\n",
            "[2025-08-27 11:01:15,037][experiments.train][INFO] - Successfully built SS bonds for /content/DiffPepBuilder/runs/inference/27D_08M_2025Y_10h_58m/alk1/length_15/alk1_length_15_sample_3.pdb\n",
            "[2025-08-27 11:01:15,063][experiments.train][INFO] - Finished building possible SS bonds for generated peptides.\n"
          ]
        }
      ],
      "source": [
        "#@title ### Run *de novo* generation\n",
        "os.environ['BASE_PATH'] = \"/content/DiffPepBuilder\"\n",
        "\n",
        "!torchrun --nproc-per-node=1 DiffPepBuilder/experiments/run_inference.py \\\n",
        "  data.val_csv_path=test_case/metadata_test.csv \\\n",
        "  experiment.use_ddp=False \\\n",
        "  experiment.num_gpus=1 \\\n",
        "  experiment.num_loader_workers=1"
      ]
    },
    {
      "cell_type": "code",
      "execution_count": 7,
      "metadata": {
        "cellView": "form",
        "colab": {
          "base_uri": "https://localhost:8080/"
        },
        "id": "ujpQoYBJLdvH",
        "outputId": "3bfb5228-3b47-4e93-dbf9-5c93fc286505"
      },
      "outputs": [
        {
          "output_type": "stream",
          "name": "stdout",
          "text": [
            "Start postprocessing of peptides...\n",
            "Running postprocessing protocol on /content/DiffPepBuilder/runs/inference/27D_08M_2025Y_10h_58m/alk1/length_14/alk1_length_14_sample_3.pdb\n",
            "Running postprocessing protocol on /content/DiffPepBuilder/runs/inference/27D_08M_2025Y_10h_58m/alk1/length_14/alk1_length_14_sample_0.pdb\n",
            "Skipping Amber relaxation due to error: Minimization failed after 100 attempts.\n",
            "┌──────────────────────────────────────────────────────────────────────────────┐\n",
            "│                                 PyRosetta-4                                  │\n",
            "│              Created in JHU by Sergey Lyskov and PyRosetta Team              │\n",
            "│              (C) Copyright Rosetta Commons Member Institutions               │\n",
            "│                                                                              │\n",
            "│ NOTE: USE OF PyRosetta FOR COMMERCIAL PURPOSES REQUIRE PURCHASE OF A LICENSE │\n",
            "│         See LICENSE.PyRosetta.md or email license@uw.edu for details         │\n",
            "└──────────────────────────────────────────────────────────────────────────────┘\n",
            "PyRosetta-4 2024 [Rosetta PyRosetta4.MinSizeRel.python312.linux 2024.39+release.59628fbc5bc09f1221e1642f1f8d157ce49b1410 2024-09-23T07:49:48] retrieved from: http://www.pyrosetta.org\n",
            "Skipping Amber relaxation due to error: Minimization failed after 100 attempts.\n",
            "┌──────────────────────────────────────────────────────────────────────────────┐\n",
            "│                                 PyRosetta-4                                  │\n",
            "│              Created in JHU by Sergey Lyskov and PyRosetta Team              │\n",
            "│              (C) Copyright Rosetta Commons Member Institutions               │\n",
            "│                                                                              │\n",
            "│ NOTE: USE OF PyRosetta FOR COMMERCIAL PURPOSES REQUIRE PURCHASE OF A LICENSE │\n",
            "│         See LICENSE.PyRosetta.md or email license@uw.edu for details         │\n",
            "└──────────────────────────────────────────────────────────────────────────────┘\n",
            "PyRosetta-4 2024 [Rosetta PyRosetta4.MinSizeRel.python312.linux 2024.39+release.59628fbc5bc09f1221e1642f1f8d157ce49b1410 2024-09-23T07:49:48] retrieved from: http://www.pyrosetta.org\n",
            "Running postprocessing protocol on /content/DiffPepBuilder/runs/inference/27D_08M_2025Y_10h_58m/alk1/length_14/alk1_length_14_sample_1.pdb\n",
            "Running postprocessing protocol on /content/DiffPepBuilder/runs/inference/27D_08M_2025Y_10h_58m/alk1/length_16/alk1_length_16_sample_0.pdb\n",
            "Skipping Amber relaxation due to error: Minimization failed after 100 attempts.\n",
            "┌──────────────────────────────────────────────────────────────────────────────┐\n",
            "│                                 PyRosetta-4                                  │\n",
            "│              Created in JHU by Sergey Lyskov and PyRosetta Team              │\n",
            "│              (C) Copyright Rosetta Commons Member Institutions               │\n",
            "│                                                                              │\n",
            "│ NOTE: USE OF PyRosetta FOR COMMERCIAL PURPOSES REQUIRE PURCHASE OF A LICENSE │\n",
            "│         See LICENSE.PyRosetta.md or email license@uw.edu for details         │\n",
            "└──────────────────────────────────────────────────────────────────────────────┘\n",
            "PyRosetta-4 2024 [Rosetta PyRosetta4.MinSizeRel.python312.linux 2024.39+release.59628fbc5bc09f1221e1642f1f8d157ce49b1410 2024-09-23T07:49:48] retrieved from: http://www.pyrosetta.org\n",
            "Skipping Amber relaxation due to error: Minimization failed after 100 attempts.\n",
            "┌──────────────────────────────────────────────────────────────────────────────┐\n",
            "│                                 PyRosetta-4                                  │\n",
            "│              Created in JHU by Sergey Lyskov and PyRosetta Team              │\n",
            "│              (C) Copyright Rosetta Commons Member Institutions               │\n",
            "│                                                                              │\n",
            "│ NOTE: USE OF PyRosetta FOR COMMERCIAL PURPOSES REQUIRE PURCHASE OF A LICENSE │\n",
            "│         See LICENSE.PyRosetta.md or email license@uw.edu for details         │\n",
            "└──────────────────────────────────────────────────────────────────────────────┘\n",
            "PyRosetta-4 2024 [Rosetta PyRosetta4.MinSizeRel.python312.linux 2024.39+release.59628fbc5bc09f1221e1642f1f8d157ce49b1410 2024-09-23T07:49:48] retrieved from: http://www.pyrosetta.org\n",
            "Running postprocessing protocol on /content/DiffPepBuilder/runs/inference/27D_08M_2025Y_10h_58m/alk1/length_16/alk1_length_16_sample_1_ss.pdb\n",
            "Running postprocessing protocol on /content/DiffPepBuilder/runs/inference/27D_08M_2025Y_10h_58m/alk1/length_14/alk1_length_14_sample_2.pdb\n",
            "Skipping Amber relaxation due to error: Minimization failed after 100 attempts.\n",
            "┌──────────────────────────────────────────────────────────────────────────────┐\n",
            "│                                 PyRosetta-4                                  │\n",
            "│              Created in JHU by Sergey Lyskov and PyRosetta Team              │\n",
            "│              (C) Copyright Rosetta Commons Member Institutions               │\n",
            "│                                                                              │\n",
            "│ NOTE: USE OF PyRosetta FOR COMMERCIAL PURPOSES REQUIRE PURCHASE OF A LICENSE │\n",
            "│         See LICENSE.PyRosetta.md or email license@uw.edu for details         │\n",
            "└──────────────────────────────────────────────────────────────────────────────┘\n",
            "PyRosetta-4 2024 [Rosetta PyRosetta4.MinSizeRel.python312.linux 2024.39+release.59628fbc5bc09f1221e1642f1f8d157ce49b1410 2024-09-23T07:49:48] retrieved from: http://www.pyrosetta.org\n",
            "Skipping Amber relaxation due to error: Minimization failed after 100 attempts.\n",
            "┌──────────────────────────────────────────────────────────────────────────────┐\n",
            "│                                 PyRosetta-4                                  │\n",
            "│              Created in JHU by Sergey Lyskov and PyRosetta Team              │\n",
            "│              (C) Copyright Rosetta Commons Member Institutions               │\n",
            "│                                                                              │\n",
            "│ NOTE: USE OF PyRosetta FOR COMMERCIAL PURPOSES REQUIRE PURCHASE OF A LICENSE │\n",
            "│         See LICENSE.PyRosetta.md or email license@uw.edu for details         │\n",
            "└──────────────────────────────────────────────────────────────────────────────┘\n",
            "PyRosetta-4 2024 [Rosetta PyRosetta4.MinSizeRel.python312.linux 2024.39+release.59628fbc5bc09f1221e1642f1f8d157ce49b1410 2024-09-23T07:49:48] retrieved from: http://www.pyrosetta.org\n",
            "Running postprocessing protocol on /content/DiffPepBuilder/runs/inference/27D_08M_2025Y_10h_58m/alk1/length_16/alk1_length_16_sample_1.pdb\n",
            "Running postprocessing protocol on /content/DiffPepBuilder/runs/inference/27D_08M_2025Y_10h_58m/alk1/length_15/alk1_length_15_sample_3.pdb\n",
            "Skipping Amber relaxation due to error: Minimization failed after 100 attempts.\n",
            "┌──────────────────────────────────────────────────────────────────────────────┐\n",
            "│                                 PyRosetta-4                                  │\n",
            "│              Created in JHU by Sergey Lyskov and PyRosetta Team              │\n",
            "│              (C) Copyright Rosetta Commons Member Institutions               │\n",
            "│                                                                              │\n",
            "│ NOTE: USE OF PyRosetta FOR COMMERCIAL PURPOSES REQUIRE PURCHASE OF A LICENSE │\n",
            "│         See LICENSE.PyRosetta.md or email license@uw.edu for details         │\n",
            "└──────────────────────────────────────────────────────────────────────────────┘\n",
            "PyRosetta-4 2024 [Rosetta PyRosetta4.MinSizeRel.python312.linux 2024.39+release.59628fbc5bc09f1221e1642f1f8d157ce49b1410 2024-09-23T07:49:48] retrieved from: http://www.pyrosetta.org\n",
            "Skipping Amber relaxation due to error: Minimization failed after 100 attempts.\n",
            "┌──────────────────────────────────────────────────────────────────────────────┐\n",
            "│                                 PyRosetta-4                                  │\n",
            "│              Created in JHU by Sergey Lyskov and PyRosetta Team              │\n",
            "│              (C) Copyright Rosetta Commons Member Institutions               │\n",
            "│                                                                              │\n",
            "│ NOTE: USE OF PyRosetta FOR COMMERCIAL PURPOSES REQUIRE PURCHASE OF A LICENSE │\n",
            "│         See LICENSE.PyRosetta.md or email license@uw.edu for details         │\n",
            "└──────────────────────────────────────────────────────────────────────────────┘\n",
            "PyRosetta-4 2024 [Rosetta PyRosetta4.MinSizeRel.python312.linux 2024.39+release.59628fbc5bc09f1221e1642f1f8d157ce49b1410 2024-09-23T07:49:48] retrieved from: http://www.pyrosetta.org\n",
            "Running postprocessing protocol on /content/DiffPepBuilder/runs/inference/27D_08M_2025Y_10h_58m/alk1/length_15/alk1_length_15_sample_2.pdb\n",
            "Running postprocessing protocol on /content/DiffPepBuilder/runs/inference/27D_08M_2025Y_10h_58m/alk1/length_16/alk1_length_16_sample_3.pdb\n",
            "Skipping Amber relaxation due to error: Minimization failed after 100 attempts.\n",
            "┌──────────────────────────────────────────────────────────────────────────────┐\n",
            "│                                 PyRosetta-4                                  │\n",
            "│              Created in JHU by Sergey Lyskov and PyRosetta Team              │\n",
            "│              (C) Copyright Rosetta Commons Member Institutions               │\n",
            "│                                                                              │\n",
            "│ NOTE: USE OF PyRosetta FOR COMMERCIAL PURPOSES REQUIRE PURCHASE OF A LICENSE │\n",
            "│         See LICENSE.PyRosetta.md or email license@uw.edu for details         │\n",
            "└──────────────────────────────────────────────────────────────────────────────┘\n",
            "PyRosetta-4 2024 [Rosetta PyRosetta4.MinSizeRel.python312.linux 2024.39+release.59628fbc5bc09f1221e1642f1f8d157ce49b1410 2024-09-23T07:49:48] retrieved from: http://www.pyrosetta.org\n",
            "Running postprocessing protocol on /content/DiffPepBuilder/runs/inference/27D_08M_2025Y_10h_58m/alk1/length_15/alk1_length_15_sample_1.pdb\n",
            "Skipping Amber relaxation due to error: Minimization failed after 100 attempts.\n",
            "┌──────────────────────────────────────────────────────────────────────────────┐\n",
            "│                                 PyRosetta-4                                  │\n",
            "│              Created in JHU by Sergey Lyskov and PyRosetta Team              │\n",
            "│              (C) Copyright Rosetta Commons Member Institutions               │\n",
            "│                                                                              │\n",
            "│ NOTE: USE OF PyRosetta FOR COMMERCIAL PURPOSES REQUIRE PURCHASE OF A LICENSE │\n",
            "│         See LICENSE.PyRosetta.md or email license@uw.edu for details         │\n",
            "└──────────────────────────────────────────────────────────────────────────────┘\n",
            "PyRosetta-4 2024 [Rosetta PyRosetta4.MinSizeRel.python312.linux 2024.39+release.59628fbc5bc09f1221e1642f1f8d157ce49b1410 2024-09-23T07:49:48] retrieved from: http://www.pyrosetta.org\n",
            "Running postprocessing protocol on /content/DiffPepBuilder/runs/inference/27D_08M_2025Y_10h_58m/alk1/length_16/alk1_length_16_sample_2.pdb\n",
            "Skipping Amber relaxation due to error: Minimization failed after 100 attempts.\n",
            "┌──────────────────────────────────────────────────────────────────────────────┐\n",
            "│                                 PyRosetta-4                                  │\n",
            "│              Created in JHU by Sergey Lyskov and PyRosetta Team              │\n",
            "│              (C) Copyright Rosetta Commons Member Institutions               │\n",
            "│                                                                              │\n",
            "│ NOTE: USE OF PyRosetta FOR COMMERCIAL PURPOSES REQUIRE PURCHASE OF A LICENSE │\n",
            "│         See LICENSE.PyRosetta.md or email license@uw.edu for details         │\n",
            "└──────────────────────────────────────────────────────────────────────────────┘\n",
            "PyRosetta-4 2024 [Rosetta PyRosetta4.MinSizeRel.python312.linux 2024.39+release.59628fbc5bc09f1221e1642f1f8d157ce49b1410 2024-09-23T07:49:48] retrieved from: http://www.pyrosetta.org\n",
            "Running postprocessing protocol on /content/DiffPepBuilder/runs/inference/27D_08M_2025Y_10h_58m/alk1/length_15/alk1_length_15_sample_0.pdb\n",
            "Skipping Amber relaxation due to error: Minimization failed after 100 attempts.\n",
            "┌──────────────────────────────────────────────────────────────────────────────┐\n",
            "│                                 PyRosetta-4                                  │\n",
            "│              Created in JHU by Sergey Lyskov and PyRosetta Team              │\n",
            "│              (C) Copyright Rosetta Commons Member Institutions               │\n",
            "│                                                                              │\n",
            "│ NOTE: USE OF PyRosetta FOR COMMERCIAL PURPOSES REQUIRE PURCHASE OF A LICENSE │\n",
            "│         See LICENSE.PyRosetta.md or email license@uw.edu for details         │\n",
            "└──────────────────────────────────────────────────────────────────────────────┘\n",
            "PyRosetta-4 2024 [Rosetta PyRosetta4.MinSizeRel.python312.linux 2024.39+release.59628fbc5bc09f1221e1642f1f8d157ce49b1410 2024-09-23T07:49:48] retrieved from: http://www.pyrosetta.org\n",
            "Running postprocessing protocol on /content/DiffPepBuilder/runs/inference/27D_08M_2025Y_10h_58m/alk1/length_13/alk1_length_13_sample_3.pdb\n",
            "Skipping Amber relaxation due to error: Minimization failed after 100 attempts.\n",
            "┌──────────────────────────────────────────────────────────────────────────────┐\n",
            "│                                 PyRosetta-4                                  │\n",
            "│              Created in JHU by Sergey Lyskov and PyRosetta Team              │\n",
            "│              (C) Copyright Rosetta Commons Member Institutions               │\n",
            "│                                                                              │\n",
            "│ NOTE: USE OF PyRosetta FOR COMMERCIAL PURPOSES REQUIRE PURCHASE OF A LICENSE │\n",
            "│         See LICENSE.PyRosetta.md or email license@uw.edu for details         │\n",
            "└──────────────────────────────────────────────────────────────────────────────┘\n",
            "PyRosetta-4 2024 [Rosetta PyRosetta4.MinSizeRel.python312.linux 2024.39+release.59628fbc5bc09f1221e1642f1f8d157ce49b1410 2024-09-23T07:49:48] retrieved from: http://www.pyrosetta.org\n",
            "Running postprocessing protocol on /content/DiffPepBuilder/runs/inference/27D_08M_2025Y_10h_58m/alk1/length_15/alk1_length_15_sample_3_ss.pdb\n",
            "Skipping Amber relaxation due to error: Minimization failed after 100 attempts.\n",
            "┌──────────────────────────────────────────────────────────────────────────────┐\n",
            "│                                 PyRosetta-4                                  │\n",
            "│              Created in JHU by Sergey Lyskov and PyRosetta Team              │\n",
            "│              (C) Copyright Rosetta Commons Member Institutions               │\n",
            "│                                                                              │\n",
            "│ NOTE: USE OF PyRosetta FOR COMMERCIAL PURPOSES REQUIRE PURCHASE OF A LICENSE │\n",
            "│         See LICENSE.PyRosetta.md or email license@uw.edu for details         │\n",
            "└──────────────────────────────────────────────────────────────────────────────┘\n",
            "PyRosetta-4 2024 [Rosetta PyRosetta4.MinSizeRel.python312.linux 2024.39+release.59628fbc5bc09f1221e1642f1f8d157ce49b1410 2024-09-23T07:49:48] retrieved from: http://www.pyrosetta.org\n",
            "Running postprocessing protocol on /content/DiffPepBuilder/runs/inference/27D_08M_2025Y_10h_58m/alk1/length_13/alk1_length_13_sample_1.pdb\n",
            "Skipping Amber relaxation due to error: Minimization failed after 100 attempts.\n",
            "┌──────────────────────────────────────────────────────────────────────────────┐\n",
            "│                                 PyRosetta-4                                  │\n",
            "│              Created in JHU by Sergey Lyskov and PyRosetta Team              │\n",
            "│              (C) Copyright Rosetta Commons Member Institutions               │\n",
            "│                                                                              │\n",
            "│ NOTE: USE OF PyRosetta FOR COMMERCIAL PURPOSES REQUIRE PURCHASE OF A LICENSE │\n",
            "│         See LICENSE.PyRosetta.md or email license@uw.edu for details         │\n",
            "└──────────────────────────────────────────────────────────────────────────────┘\n",
            "PyRosetta-4 2024 [Rosetta PyRosetta4.MinSizeRel.python312.linux 2024.39+release.59628fbc5bc09f1221e1642f1f8d157ce49b1410 2024-09-23T07:49:48] retrieved from: http://www.pyrosetta.org\n",
            "Running postprocessing protocol on /content/DiffPepBuilder/runs/inference/27D_08M_2025Y_10h_58m/alk1/length_13/alk1_length_13_sample_0.pdb\n",
            "Skipping Amber relaxation due to error: Minimization failed after 100 attempts.\n",
            "┌──────────────────────────────────────────────────────────────────────────────┐\n",
            "│                                 PyRosetta-4                                  │\n",
            "│              Created in JHU by Sergey Lyskov and PyRosetta Team              │\n",
            "│              (C) Copyright Rosetta Commons Member Institutions               │\n",
            "│                                                                              │\n",
            "│ NOTE: USE OF PyRosetta FOR COMMERCIAL PURPOSES REQUIRE PURCHASE OF A LICENSE │\n",
            "│         See LICENSE.PyRosetta.md or email license@uw.edu for details         │\n",
            "└──────────────────────────────────────────────────────────────────────────────┘\n",
            "PyRosetta-4 2024 [Rosetta PyRosetta4.MinSizeRel.python312.linux 2024.39+release.59628fbc5bc09f1221e1642f1f8d157ce49b1410 2024-09-23T07:49:48] retrieved from: http://www.pyrosetta.org\n",
            "Running postprocessing protocol on /content/DiffPepBuilder/runs/inference/27D_08M_2025Y_10h_58m/alk1/length_13/alk1_length_13_sample_2.pdb\n",
            "Skipping Amber relaxation due to error: Minimization failed after 100 attempts.\n",
            "┌──────────────────────────────────────────────────────────────────────────────┐\n",
            "│                                 PyRosetta-4                                  │\n",
            "│              Created in JHU by Sergey Lyskov and PyRosetta Team              │\n",
            "│              (C) Copyright Rosetta Commons Member Institutions               │\n",
            "│                                                                              │\n",
            "│ NOTE: USE OF PyRosetta FOR COMMERCIAL PURPOSES REQUIRE PURCHASE OF A LICENSE │\n",
            "│         See LICENSE.PyRosetta.md or email license@uw.edu for details         │\n",
            "└──────────────────────────────────────────────────────────────────────────────┘\n",
            "PyRosetta-4 2024 [Rosetta PyRosetta4.MinSizeRel.python312.linux 2024.39+release.59628fbc5bc09f1221e1642f1f8d157ce49b1410 2024-09-23T07:49:48] retrieved from: http://www.pyrosetta.org\n",
            "Running postprocessing protocol on /content/DiffPepBuilder/runs/inference/27D_08M_2025Y_10h_58m/alk1/length_12/alk1_length_12_sample_1.pdb\n",
            "Skipping Amber relaxation due to error: Minimization failed after 100 attempts.\n",
            "┌──────────────────────────────────────────────────────────────────────────────┐\n",
            "│                                 PyRosetta-4                                  │\n",
            "│              Created in JHU by Sergey Lyskov and PyRosetta Team              │\n",
            "│              (C) Copyright Rosetta Commons Member Institutions               │\n",
            "│                                                                              │\n",
            "│ NOTE: USE OF PyRosetta FOR COMMERCIAL PURPOSES REQUIRE PURCHASE OF A LICENSE │\n",
            "│         See LICENSE.PyRosetta.md or email license@uw.edu for details         │\n",
            "└──────────────────────────────────────────────────────────────────────────────┘\n",
            "PyRosetta-4 2024 [Rosetta PyRosetta4.MinSizeRel.python312.linux 2024.39+release.59628fbc5bc09f1221e1642f1f8d157ce49b1410 2024-09-23T07:49:48] retrieved from: http://www.pyrosetta.org\n",
            "Running postprocessing protocol on /content/DiffPepBuilder/runs/inference/27D_08M_2025Y_10h_58m/alk1/length_12/alk1_length_12_sample_0.pdb\n",
            "Skipping Amber relaxation due to error: Minimization failed after 100 attempts.\n",
            "┌──────────────────────────────────────────────────────────────────────────────┐\n",
            "│                                 PyRosetta-4                                  │\n",
            "│              Created in JHU by Sergey Lyskov and PyRosetta Team              │\n",
            "│              (C) Copyright Rosetta Commons Member Institutions               │\n",
            "│                                                                              │\n",
            "│ NOTE: USE OF PyRosetta FOR COMMERCIAL PURPOSES REQUIRE PURCHASE OF A LICENSE │\n",
            "│         See LICENSE.PyRosetta.md or email license@uw.edu for details         │\n",
            "└──────────────────────────────────────────────────────────────────────────────┘\n",
            "PyRosetta-4 2024 [Rosetta PyRosetta4.MinSizeRel.python312.linux 2024.39+release.59628fbc5bc09f1221e1642f1f8d157ce49b1410 2024-09-23T07:49:48] retrieved from: http://www.pyrosetta.org\n",
            "Running postprocessing protocol on /content/DiffPepBuilder/runs/inference/27D_08M_2025Y_10h_58m/alk1/length_12/alk1_length_12_sample_2.pdb\n",
            "Skipping Amber relaxation due to error: Minimization failed after 100 attempts.\n",
            "┌──────────────────────────────────────────────────────────────────────────────┐\n",
            "│                                 PyRosetta-4                                  │\n",
            "│              Created in JHU by Sergey Lyskov and PyRosetta Team              │\n",
            "│              (C) Copyright Rosetta Commons Member Institutions               │\n",
            "│                                                                              │\n",
            "│ NOTE: USE OF PyRosetta FOR COMMERCIAL PURPOSES REQUIRE PURCHASE OF A LICENSE │\n",
            "│         See LICENSE.PyRosetta.md or email license@uw.edu for details         │\n",
            "└──────────────────────────────────────────────────────────────────────────────┘\n",
            "PyRosetta-4 2024 [Rosetta PyRosetta4.MinSizeRel.python312.linux 2024.39+release.59628fbc5bc09f1221e1642f1f8d157ce49b1410 2024-09-23T07:49:48] retrieved from: http://www.pyrosetta.org\n",
            "Skipping Amber relaxation due to error: Minimization failed after 100 attempts.\n",
            "┌──────────────────────────────────────────────────────────────────────────────┐\n",
            "│                                 PyRosetta-4                                  │\n",
            "│              Created in JHU by Sergey Lyskov and PyRosetta Team              │\n",
            "│              (C) Copyright Rosetta Commons Member Institutions               │\n",
            "│                                                                              │\n",
            "│ NOTE: USE OF PyRosetta FOR COMMERCIAL PURPOSES REQUIRE PURCHASE OF A LICENSE │\n",
            "│         See LICENSE.PyRosetta.md or email license@uw.edu for details         │\n",
            "└──────────────────────────────────────────────────────────────────────────────┘\n",
            "PyRosetta-4 2024 [Rosetta PyRosetta4.MinSizeRel.python312.linux 2024.39+release.59628fbc5bc09f1221e1642f1f8d157ce49b1410 2024-09-23T07:49:48] retrieved from: http://www.pyrosetta.org\n",
            "Running postprocessing protocol on /content/DiffPepBuilder/runs/inference/27D_08M_2025Y_10h_58m/alk1/length_12/alk1_length_12_sample_3.pdb\n",
            "Skipping Amber relaxation due to error: Minimization failed after 100 attempts.\n",
            "┌──────────────────────────────────────────────────────────────────────────────┐\n",
            "│                                 PyRosetta-4                                  │\n",
            "│              Created in JHU by Sergey Lyskov and PyRosetta Team              │\n",
            "│              (C) Copyright Rosetta Commons Member Institutions               │\n",
            "│                                                                              │\n",
            "│ NOTE: USE OF PyRosetta FOR COMMERCIAL PURPOSES REQUIRE PURCHASE OF A LICENSE │\n",
            "│         See LICENSE.PyRosetta.md or email license@uw.edu for details         │\n",
            "└──────────────────────────────────────────────────────────────────────────────┘\n",
            "PyRosetta-4 2024 [Rosetta PyRosetta4.MinSizeRel.python312.linux 2024.39+release.59628fbc5bc09f1221e1642f1f8d157ce49b1410 2024-09-23T07:49:48] retrieved from: http://www.pyrosetta.org\n",
            "Postprocessing metrics saved to /content/DiffPepBuilder/runs/inference/postprocess_results.csv\n",
            "Finished postprocessing of 22 peptides.\n"
          ]
        }
      ],
      "source": [
        "#@title ### (Optional) Run postprocessing\n",
        "#@markdown - This step executes slowly on Colab; we recommend running it on a local machine with more CPU cores available\n",
        "os.environ['BASE_PATH'] = \"/content/DiffPepBuilder\"\n",
        "\n",
        "!python DiffPepBuilder/experiments/run_postprocess.py --in_pdbs /content/DiffPepBuilder/runs/inference --ori_pdbs /content/DiffPepBuilder/examples/receptor_data --nproc 2 --amber_relax --rosetta_relax"
      ]
    },
    {
      "cell_type": "code",
      "execution_count": 8,
      "metadata": {
        "colab": {
          "base_uri": "https://localhost:8080/",
          "height": 17
        },
        "id": "SD90AEzE5TVm",
        "outputId": "568ab37c-5082-48dd-ac3a-ddf968568d85"
      },
      "outputs": [
        {
          "output_type": "display_data",
          "data": {
            "text/plain": [
              "<IPython.core.display.Javascript object>"
            ],
            "application/javascript": [
              "\n",
              "    async function download(id, filename, size) {\n",
              "      if (!google.colab.kernel.accessAllowed) {\n",
              "        return;\n",
              "      }\n",
              "      const div = document.createElement('div');\n",
              "      const label = document.createElement('label');\n",
              "      label.textContent = `Downloading \"${filename}\": `;\n",
              "      div.appendChild(label);\n",
              "      const progress = document.createElement('progress');\n",
              "      progress.max = size;\n",
              "      div.appendChild(progress);\n",
              "      document.body.appendChild(div);\n",
              "\n",
              "      const buffers = [];\n",
              "      let downloaded = 0;\n",
              "\n",
              "      const channel = await google.colab.kernel.comms.open(id);\n",
              "      // Send a message to notify the kernel that we're ready.\n",
              "      channel.send({})\n",
              "\n",
              "      for await (const message of channel.messages) {\n",
              "        // Send a message to notify the kernel that we're ready.\n",
              "        channel.send({})\n",
              "        if (message.buffers) {\n",
              "          for (const buffer of message.buffers) {\n",
              "            buffers.push(buffer);\n",
              "            downloaded += buffer.byteLength;\n",
              "            progress.value = downloaded;\n",
              "          }\n",
              "        }\n",
              "      }\n",
              "      const blob = new Blob(buffers, {type: 'application/binary'});\n",
              "      const a = document.createElement('a');\n",
              "      a.href = window.URL.createObjectURL(blob);\n",
              "      a.download = filename;\n",
              "      div.appendChild(a);\n",
              "      a.click();\n",
              "      div.remove();\n",
              "    }\n",
              "  "
            ]
          },
          "metadata": {}
        },
        {
          "output_type": "display_data",
          "data": {
            "text/plain": [
              "<IPython.core.display.Javascript object>"
            ],
            "application/javascript": [
              "download(\"download_919577dd-e2e3-400e-b4d7-ac24c735b0d3\", \"designed_binders.tar.gz\", 2308690)"
            ]
          },
          "metadata": {}
        }
      ],
      "source": [
        "#@title ### Download results\n",
        "\n",
        "!tar --directory=/content/DiffPepBuilder/runs -czf /content/designed_binders.tar.gz inference\n",
        "files.download(\"/content/designed_binders.tar.gz\")"
      ]
    }
  ],
  "metadata": {
    "accelerator": "GPU",
    "colab": {
      "gpuType": "T4",
      "provenance": []
    },
    "kernelspec": {
      "display_name": "Python 3",
      "name": "python3"
    },
    "language_info": {
      "name": "python",
      "version": "3.9.16"
    }
  },
  "nbformat": 4,
  "nbformat_minor": 0
}